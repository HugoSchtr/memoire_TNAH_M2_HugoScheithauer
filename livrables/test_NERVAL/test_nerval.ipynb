{
 "cells": [
  {
   "cell_type": "markdown",
   "id": "87a4f8db-39bf-4013-895c-82c37e8d3066",
   "metadata": {},
   "source": [
    "# Test de l'évaluation du modèle générique de NER de la chaîne de traitement en langue française de Stanza avec NERVAL"
   ]
  },
  {
   "cell_type": "markdown",
   "id": "e976a27f-3b97-4268-ac05-e94b1c03bffa",
   "metadata": {},
   "source": [
    "## Processus d'évaluation"
   ]
  },
  {
   "cell_type": "markdown",
   "id": "ab0a3589-f7e4-4dbc-a2e1-e910046c5e1b",
   "metadata": {},
   "source": [
    "On teste la librairie python [NERVAL](https://gitlab.com/teklia/nerval/-/tree/master) pour évaluer la prédiction du modèle générique de NER de la chaîne de traitement en langue française de [Stanza](https://stanfordnlp.github.io/stanza/ner.html)."
   ]
  },
  {
   "cell_type": "markdown",
   "id": "8443af9e-718e-42d2-a2c9-c0b6a63f6ad0",
   "metadata": {},
   "source": [
    "Voir également : https://teklia.com/blog/202104-nerval/"
   ]
  },
  {
   "cell_type": "markdown",
   "id": "882735aa-4e82-441e-8471-9c91a1521a2d",
   "metadata": {},
   "source": [
    "Selon https://teklia.com/blog/202104-nerval/ :\n",
    "\n",
    "\"The automatic transcription is first aligned with the ground truth at character level, by minimising the Levenshtein distance between them. Each entity in the ground truth is then matched with an overlapping entity in the aligned transcription with the same entity label, or an empty character string if no match is found. If the edit distance between the two entities is less than 30% of the ground truth entity length, the predicted entity is considered as recognised. For the purpose of matching detected entities to existing databases, we estimated that a 70% match between the entity texts was a fair threshold.\"\n",
    "\n",
    "Pour récapituler et traduire, NERVAL effectue donc les opérations suivantes pour évaluer :\n",
    "\n",
    "1. Alignement de la transcription automatique avec la vérité de terrain au niveau du caractère en minimisant le distance de Levenshtein\n",
    "2. Chaque entité annotée dans la vérité de terrain est associé à une entité possédant le même label et au même niveau dans le texte, dans la transcription alignée, ou avec un caractère vide si aucune association n'est trouvée. \n",
    "3. Une entité est considérée comme reconnue dans la transcription si la distance d'édition avec la vérité de terrain est moins de 30%."
   ]
  },
  {
   "cell_type": "markdown",
   "id": "aac24908-fa4f-4ecd-a76e-e87997e685d0",
   "metadata": {},
   "source": [
    "## Données pour l'évaluation"
   ]
  },
  {
   "cell_type": "markdown",
   "id": "47d23a5f-7d9e-464d-bf50-15780dd0dd4c",
   "metadata": {},
   "source": [
    "La vérité de terrain NER résulte de l'annotation d'une page de répertoire transcrite manuellement sur la plateforme d'annotation Inception, de l'export des annotations au format CONLL 2002, et de la conversion du format CONLL 2002 au format d'annotation BIOES grâce à un script présent sur le repository Github [NCRFpp](https://github.com/jiesutd/NCRFpp). Voir ici : https://github.com/jiesutd/NCRFpp/blob/master/utils/tagSchemeConverter.py#L16\n",
    "\n",
    "Le fichier texte FRAN\\_0025\\_5038\\_L-0\\_htr\\_cer\\_13_bioes.txt résulte de l'annotation NER réalisée avec la librairie python de NLP [Stanza](https://stanfordnlp.github.io/stanza/ner.html)."
   ]
  },
  {
   "cell_type": "markdown",
   "id": "f0e46799-e166-4ade-9e1e-de2c51ce0b62",
   "metadata": {},
   "source": [
    "## Evaluation avec NERVAL"
   ]
  },
  {
   "cell_type": "markdown",
   "id": "633fdac4-fa0e-4853-8f5f-33c3aba5b85b",
   "metadata": {},
   "source": [
    "NERVAL permet de manipuler un seuil pour la distance d'édition. Par défaut, et comme mentionné plus haut, celui-ci est de 30%. Cette valeur est celle conseillé par l'équipe de développement de NERVAL. On commence par voir le résultat avec cette valeur par défaut : "
   ]
  },
  {
   "cell_type": "code",
   "execution_count": 2,
   "id": "1641a2cb-fbe4-4040-8361-b0e73adaf17d",
   "metadata": {},
   "outputs": [
    {
     "name": "stdout",
     "output_type": "stream",
     "text": [
      "| tag  | predicted | matched | Precision | Recall | F1    | Support |\n",
      "|------|-----------|---------|-----------|--------|-------|---------|\n",
      "| PER  | 43        | 23      | 0.535     | 0.657  | 0.59  | 35      |\n",
      "| ORG  | 2         | 0       | 0.0       | 0.0    | 0     | 4       |\n",
      "| MISC | 2         | 0       | 0.0       | None   | None  | None    |\n",
      "| LOC  | 32        | 17      | 0.531     | 0.486  | 0.507 | 35      |\n",
      "| All  | 79        | 40      | 0.506     | 0.541  | 0.523 | 74      |\n"
     ]
    }
   ],
   "source": [
    "!nerval -a data/FRAN_0025_5038_L-0_gt.bioes -p data/FRAN_0025_5038_L-0_htr_cer_13.bioes"
   ]
  },
  {
   "cell_type": "markdown",
   "id": "9daaaeac-371f-4ed1-a17d-387020b6d739",
   "metadata": {},
   "source": [
    "Les scores encouragent au fine-tuning d'un modèle de NER pour atteindre des scores proche des 90% pour chaque entité."
   ]
  },
  {
   "cell_type": "markdown",
   "id": "57d981bd-1a6d-4d96-8be5-0aecf7709513",
   "metadata": {},
   "source": [
    "On descend le seuil à 20% :"
   ]
  },
  {
   "cell_type": "code",
   "execution_count": 4,
   "id": "19a5b7ec-cfe4-4479-b496-a12b1994c164",
   "metadata": {},
   "outputs": [
    {
     "name": "stdout",
     "output_type": "stream",
     "text": [
      "| tag  | predicted | matched | Precision | Recall | F1    | Support |\n",
      "|------|-----------|---------|-----------|--------|-------|---------|\n",
      "| PER  | 43        | 20      | 0.465     | 0.571  | 0.513 | 35      |\n",
      "| ORG  | 2         | 0       | 0.0       | 0.0    | 0     | 4       |\n",
      "| MISC | 2         | 0       | 0.0       | None   | None  | None    |\n",
      "| LOC  | 32        | 16      | 0.5       | 0.457  | 0.478 | 35      |\n",
      "| All  | 79        | 36      | 0.456     | 0.486  | 0.471 | 74      |\n"
     ]
    }
   ],
   "source": [
    "!nerval -a data/FRAN_0025_5038_L-0_gt.bioes -p data/FRAN_0025_5038_L-0_htr_cer_13.bioes -t 0.20"
   ]
  },
  {
   "cell_type": "markdown",
   "id": "30bb8d71-b40f-4533-8ff9-50308179e79d",
   "metadata": {},
   "source": [
    "Sans surprise, les scores sont moins bons."
   ]
  },
  {
   "cell_type": "markdown",
   "id": "58a0ddcd-5326-47ae-941c-ba20d76e8602",
   "metadata": {},
   "source": [
    "On monte le seuil à 40% :"
   ]
  },
  {
   "cell_type": "code",
   "execution_count": 5,
   "id": "3d150514-0b0a-48b2-a188-0a320c00e5f8",
   "metadata": {},
   "outputs": [
    {
     "name": "stdout",
     "output_type": "stream",
     "text": [
      "| tag  | predicted | matched | Precision | Recall | F1    | Support |\n",
      "|------|-----------|---------|-----------|--------|-------|---------|\n",
      "| PER  | 43        | 25      | 0.581     | 0.714  | 0.641 | 35      |\n",
      "| ORG  | 2         | 0       | 0.0       | 0.0    | 0     | 4       |\n",
      "| MISC | 2         | 0       | 0.0       | None   | None  | None    |\n",
      "| LOC  | 32        | 17      | 0.531     | 0.486  | 0.507 | 35      |\n",
      "| All  | 79        | 42      | 0.532     | 0.568  | 0.549 | 74      |\n"
     ]
    }
   ],
   "source": [
    "!nerval -a data/FRAN_0025_5038_L-0_gt.bioes -p data/FRAN_0025_5038_L-0_htr_cer_13.bioes -t 0.40"
   ]
  },
  {
   "cell_type": "markdown",
   "id": "f20e7baf-a220-4980-b972-b0dc8c920575",
   "metadata": {},
   "source": [
    "Avec plus de souplesse dans la gestion de la distance d'édition, les scores montent. "
   ]
  },
  {
   "cell_type": "markdown",
   "id": "53798263-7b95-4620-b83d-d101555e53ea",
   "metadata": {},
   "source": [
    "En imposant un seuil d'édition à 0, et donc une correspondance exacte entre la vérité de terrain et la transcription, les scores sont naturellement très bas :"
   ]
  },
  {
   "cell_type": "code",
   "execution_count": 7,
   "id": "ce48e517-88fc-40db-8af3-efb9b8a7d2cb",
   "metadata": {},
   "outputs": [
    {
     "name": "stdout",
     "output_type": "stream",
     "text": [
      "| tag  | predicted | matched | Precision | Recall | F1    | Support |\n",
      "|------|-----------|---------|-----------|--------|-------|---------|\n",
      "| PER  | 43        | 8       | 0.186     | 0.229  | 0.205 | 35      |\n",
      "| ORG  | 2         | 0       | 0.0       | 0.0    | 0     | 4       |\n",
      "| MISC | 2         | 0       | 0.0       | None   | None  | None    |\n",
      "| LOC  | 32        | 15      | 0.469     | 0.429  | 0.448 | 35      |\n",
      "| All  | 79        | 23      | 0.291     | 0.311  | 0.301 | 74      |\n"
     ]
    }
   ],
   "source": [
    "!nerval -a data/FRAN_0025_5038_L-0_gt.bioes -p data/FRAN_0025_5038_L-0_htr_cer_13.bioes -t 0"
   ]
  }
 ],
 "metadata": {
  "kernelspec": {
   "display_name": "Python 3 (ipykernel)",
   "language": "python",
   "name": "python3"
  },
  "language_info": {
   "codemirror_mode": {
    "name": "ipython",
    "version": 3
   },
   "file_extension": ".py",
   "mimetype": "text/x-python",
   "name": "python",
   "nbconvert_exporter": "python",
   "pygments_lexer": "ipython3",
   "version": "3.9.6"
  }
 },
 "nbformat": 4,
 "nbformat_minor": 5
}
