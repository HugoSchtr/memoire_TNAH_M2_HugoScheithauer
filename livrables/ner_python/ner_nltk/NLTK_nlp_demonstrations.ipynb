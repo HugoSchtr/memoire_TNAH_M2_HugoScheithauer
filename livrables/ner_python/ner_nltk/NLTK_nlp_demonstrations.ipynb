{
 "cells": [
  {
   "cell_type": "markdown",
   "id": "6f18a1f8-d06b-417b-b9e1-4824a68b275b",
   "metadata": {},
   "source": [
    "# Tests avec NLTK"
   ]
  },
  {
   "cell_type": "markdown",
   "id": "385490c1-fe8a-4220-a544-8d1c04a24536",
   "metadata": {},
   "source": [
    "## Imports"
   ]
  },
  {
   "cell_type": "code",
   "execution_count": 3,
   "id": "d1eabb52-4ac3-4317-a51d-d7faee4c0ca1",
   "metadata": {},
   "outputs": [],
   "source": [
    "import nltk\n",
    "from bs4 import BeautifulSoup\n",
    "import re"
   ]
  },
  {
   "cell_type": "markdown",
   "id": "14af3db5-3654-4ee7-8d09-2a6e6a880358",
   "metadata": {},
   "source": [
    "## Pré-traitement du PAGE XML"
   ]
  },
  {
   "cell_type": "markdown",
   "id": "c82733dd-d219-4268-98cb-7349fb557910",
   "metadata": {},
   "source": [
    "On récupère le PAGE XML, on le parse, et on essaye de reconstituer chaque enregistrement grâce à l'annotation sémantique réalisée dans eScriptorium.\n",
    "\n",
    "Le *type:first_line* correspond à chaque première ligne d'enregistrement. La première ligne du registre, indiquant la date, possède également ce label.\n",
    "\n",
    "Il me semble que le modèle de segmentation des colonnes actuellement entraîné labellise les colonnes pairs et impairs. La colonne centrale pourrait être récupéré en cherchant à extraire la troisième colonne pair. \n",
    "\n",
    "A chaque fin d'enregistrement, on ajoute un \"@ \" pour indiquer la fin de l'unité sémantique. De la sorte, on reconstitue artificiellement la structure de la page."
   ]
  },
  {
   "cell_type": "code",
   "execution_count": 4,
   "id": "f8bf2273-d9e0-4f7d-b96f-40392a84b520",
   "metadata": {
    "scrolled": true,
    "tags": []
   },
   "outputs": [
    {
     "name": "stdout",
     "output_type": "stream",
     "text": [
      "['An 1901, mois de Étévrier@ ', 'Dupuis (parPierre) à Paris, rue Turot 4, à Catherine Bigol, safen@ ', 'aOo (par Mve) s.n. à@ ', 'Muret (de Paul Louis Georges) dt à Paris, Bd Rochechouart 68, et Marie Joséphine', 'Lemaire, dt à Paris, même adreré (Sléparation de biens@ ', 'Duboscqfet titre de 380+. de rente 3% au nom de: Debuisson, Juatine Adèle', \"Se de Pnles) et autres, à Paris, rue del'Orcade 21@ \", 'Rousfpa Pdmord Harcisse Bt aParis, rue Canaletti 15, et autrespr touchor V@ ', 'Chabr (par Marie Louise Jatoune, Ve deMarie Eusébe Maseine Bt à Billancourt ronte de', 'Sersailles. 18, à Ougène Vahrin et Marceline Fhalino, dt à Billancourt, rue Mationale 31, de 21303.88@ ', 'Gauther (par Marie Cexandinte) à Paris, rue St Ferdinandt, à sespère et mère@ ', 'Oussonppar Geordes ErnertLéou dt à Paris, rue Lamarch 144, à sonpère@ ', \"Lecrosnier (etlivret de Caistte d'Epargne de Paris, de157.19, aunonde Pierre\", 'Pugute) décédé en sondomicilé à PParis, rue Descartes 21, le 16 8bre 1900@ ', 'Lettéronctlespiénond de Louis Cmile) décédé ensondoui à Villneuse Heorges, le 15 7bre 187@ ', 'Oupont (pr Léonie Clhrtine Détavie rueSt Lazare 82, à Honoré Bouscaratets', 'Jeune, a ntelaux (Anepon et à Cchille Pareau, rue Guyot 17 debontique aud nlier@ ', 'de lecanda y Mondicta(t Joaguina Polores Conceptionde Orbeta y', 'Alguirre V° Mannel) décédée à Bilbas. 23 calle de Ptodebavriéta le 25 Mai1900@ ', 'Théonle (parAlfred Slain Geordes) dt à Paris, rue Brag. 4, à1o nee@ ', 'Deeuit (par JaéolGuillaume) dtà Paris, rue Falévy 6, deonbeusdtales appt à Mme de Boissieu@ ', 'deranès (de Marie Gertade Cbout, épouse de Clodoii eMert) dt à', 'Paris, rue du Frinteups. 32@ ', 'de  Soudietat@ ', 'Ste Blocq pères et Cié (parladt) répabonl à Gabiel Hanit Coyat', 'rue du Mintemps 7, de 782%@ ', 'Henriy (par Etugustine Victoire Lecharpentier, épouse de Jean Baptiste) à Paris', \"rued'tthènes, 24, au mariade de 1lel@ \", 'Moreau Simond (par Gustave Aalhur Félie) et Marie Françoise Pellerin,', 'epre à Paris, rue des Batiquolles 76, pr vendre mmneuble@ ', 'Marant (parMarie Caroline Dhval, vligalle, 16, Ve de ClexandretichorAunand)', 'à Joseph Eugine Royt etMarie Adelphine Julien, à Aonilres, rue de Chatandu 22, 5re 1028+ pr devente@ ', 'Crat (St livret dela Caissé des retraites pourlaveillesse, 150+, aunom de Jean', \"Joseph) décédé eu soudoi. à Paris, rue del'Amnonciation 28, le 23 8bre 1900@ \", 'Toudon (de Pauline AntoinetteMeyer, Veeu tresnaes de Clexandre Chatel eteu des', 'aces deFtrançois décédée ensondom à Paris, rue de Courcelles 192, le 21 février 1901@ ', 'DeGoyeneche (par Carmentdt à Paris, avenue Friedland 15, aau Mariano', 'Nedfuaqui, Md de Villafuerté, même adressespr acq. dela Ste des Cotegux de Longchamps@ ', 'Ste des socomotives sans foyer (Ct la)par Léon Strancq, à Pars', '18, avennue Victor Jugo@ ', 'Lebedel (de Mérie JeanBaptiste) à Paris, avenue Victoria 15, et Luie Augustin', \"Ceury, à Paris, rued'Athénes 24 Communauté réduite aux acquêts@ \", 'Deloyenèche (par JuancMariais de Goyenèche y Gamis comté de Guague', 'dt à Paris, avenue Fricdlarre 15, etautres@ ', 'de Goyenèche (à Carmen) dt à Paris, avenue Friedland 15, à la Sté Ste des Coteauxde', \"Bois de Boulogne et de Longchamps, siégeà Paris, rue del'Osly 9, de 3 paralles de terrainmet 1808@ \", 'Guille ( tevens de Marchautfet titre de 396 - de rente 37 auc nom de) Geurg, dt à', 'Prmbaut Croconhill (lymonth comsté de Revon (Augletere) décédé le 9 mai 190 Bebdppiote@ ', 'Anaier (par Frgngoie Ronchard, épouse de Alphonse), rue Saferrière 17, pr relirer', \"outestommes dela Caisted'Epargnepottale@ \", 'Outrey (parMarguerite Olvire Henneis, épouse de Jean Victor dt àParis, rue', 'Lrefendre 176, pr recueillir 31@ ', 'Mainot (parEngraceMillacet, épouse dePiere) dt ̀ Paris rue deGrenelle', 'PideMiMlarid clesc@ ', 'Dournié (a près décè deMarieMuller, Ve de Marcelin) décéie en sondonielles', 'Paris, rue Beuret 20, le11 février 190@ ', 'Teilfparle Citnie à Fraņois) dt à Bois Cdonbes, nille Sehutz, 13, de 38 00f@ ']\n"
     ]
    }
   ],
   "source": [
    "tag_list = []\n",
    "\n",
    "# On ouvre le fichier XML PAGE\n",
    "with open(\"../../corpus_test/lectaurep/doc_28_sample/annotated_first_lines/FRAN_0025_0029_L-0.xml\", 'r', encoding='UTF-8') as file:\n",
    "    parsed_sample = BeautifulSoup(file, \"lxml-xml\")\n",
    "\n",
    "\n",
    "# On effectue les transformations pour segmenter artificiellement les enregistrements\n",
    "textline_tags = parsed_sample.find_all(\"TextLine\")\n",
    "for i in range(len(textline_tags)):\n",
    "    if textline_tags[i].has_attr('custom'):\n",
    "        if textline_tags[i]['custom'] == 'structure {type:first_line;}':\n",
    "                # On modifie l'index précédent quand on arrive sur une balise avec @custome == 'structure {type:first_line;}'\n",
    "                unicode = textline_tags[i-1].find('Unicode')\n",
    "                unicode.append(\"@ \")\n",
    "      \n",
    "    \n",
    "# On récupère les tags Unicode modifiés\n",
    "unicode_tags = parsed_sample.find_all(\"Unicode\")\n",
    "text_tags_list = [tag.text for tag in unicode_tags]\n",
    "print(text_tags_list)\n",
    "# On join() les index de la liste\n",
    "text = ''.join(text_tags_list)\n",
    "# On essaye de reconstituer les noms aglutinés à l'aide des majuscules\n",
    "text = re.sub(r\"(\\w)([A-Z])\", r\"\\1 \\2\", text)\n",
    "\n",
    "# Pour visualisation :\n",
    "text_breaklines = '\\n'.join(text_tags_list)\n",
    "text_breaklines = re.sub(r\"(\\w)([A-Z])\", r\"\\1 \\2\", text_breaklines)"
   ]
  },
  {
   "cell_type": "markdown",
   "id": "a9855305-8464-4e69-8b30-fb8bda936039",
   "metadata": {},
   "source": [
    "## Traitements NLP avec NLTK"
   ]
  },
  {
   "cell_type": "markdown",
   "id": "1a97c653-2629-43f1-8e7b-8a9f136b28eb",
   "metadata": {},
   "source": [
    "NLTK ne propose pas de modèle de POS tagging ni de modèle de NER pour les textes en français.\n",
    "\n",
    "Notons cependant que NLTK propose d'entraîner un modèle de POS tagging. Voir http://www.nltk.org/book/ch05.html#sec-n-gram-tagging.\n",
    "\n",
    "On peut tout de même essayer de segmenter et tokenizer les phrases."
   ]
  },
  {
   "cell_type": "markdown",
   "id": "4377cc6a-fe4a-4fc9-94df-727a66c9b217",
   "metadata": {},
   "source": [
    "## Tokenizer"
   ]
  },
  {
   "cell_type": "code",
   "execution_count": 5,
   "id": "4e048b13-7a9a-4e9c-9ae8-95b6104f04ec",
   "metadata": {},
   "outputs": [],
   "source": [
    "from nltk import word_tokenize"
   ]
  },
  {
   "cell_type": "markdown",
   "id": "dda616e0-0c79-42dc-80f4-e919e52abab5",
   "metadata": {},
   "source": [
    "Pour reconstituer les enregistrements, on utilise un sentecizer personnalisé, configuré pour segmenter avec les \"@\".\n",
    "\n",
    "Voir la documentation : https://www.nltk.org/api/nltk.tokenize.html#nltk.tokenize.punkt.PunktLanguageVars.sent_end_chars"
   ]
  },
  {
   "cell_type": "code",
   "execution_count": 11,
   "id": "665666d1-d603-49b3-891b-1fe8280864a2",
   "metadata": {},
   "outputs": [],
   "source": [
    "from nltk.tokenize.punkt import PunktSentenceTokenizer"
   ]
  },
  {
   "cell_type": "code",
   "execution_count": 12,
   "id": "1e94715a-6d02-4927-acce-cb6d08e83ae7",
   "metadata": {
    "scrolled": true,
    "tags": []
   },
   "outputs": [],
   "source": [
    "# On instancie l'objet PunkSentenceTokenizer\n",
    "sentencizer = PunktSentenceTokenizer()\n",
    "# On le configure pour segmenter sur les @\n",
    "PunktLanguageVars.sent_end_chars = (\"@\")\n",
    "# On applique le sentencizer sur le texte qu'on a récupéré depuis le XML PAGE\n",
    "sentences = sentencizer.tokenize(text)\n",
    "# On tokenize les phrases\n",
    "tokens = [word_tokenize(sent, language=\"french\") for sent in sentences]"
   ]
  },
  {
   "cell_type": "code",
   "execution_count": 13,
   "id": "42ff8cff-545b-4b21-9fc8-7a916666a374",
   "metadata": {
    "scrolled": true,
    "tags": []
   },
   "outputs": [
    {
     "name": "stdout",
     "output_type": "stream",
     "text": [
      "['An 1901, mois de Étévrier@', 'Dupuis (par Pierre) à Paris, rue Turot 4, à Catherine Bigol, safen@', 'a Oo (par Mve) s.n. à@', 'Muret (de Paul Louis Georges) dt à Paris, Bd Rochechouart 68, et Marie Joséphine Lemaire, dt à Paris, même adreré (Sléparation de biens@', \"Duboscqfet titre de 380+. de rente 3% au nom de: Debuisson, Juatine Adèle Se de Pnles) et autres, à Paris, rue del'Orcade 21@\", 'Rousfpa Pdmord Harcisse Bt a Paris, rue Canaletti 15, et autrespr touchor V@', 'Chabr (par Marie Louise Jatoune, Ve de Marie Eusébe Maseine Bt à Billancourt ronte de Sersailles. 18, à Ougène Vahrin et Marceline Fhalino, dt à Billancourt, rue Mationale 31, de 21303.88@', 'Gauther (par Marie Cexandinte) à Paris, rue St Ferdinandt, à sespère et mère@', 'Oussonppar Geordes Ernert Léou dt à Paris, rue Lamarch 144, à sonpère@', \"Lecrosnier (etlivret de Caistte d'Epargne de Paris, de157.19, aunonde Pierre Pugute) décédé en sondomicilé à P Paris, rue Descartes 21, le 16 8bre 1900@\", 'Lettéronctlespiénond de Louis Cmile) décédé ensondoui à Villneuse Heorges, le 15 7bre 187@', 'Oupont (pr Léonie Clhrtine Détavie rue St Lazare 82, à Honoré Bouscaratets Jeune, a ntelaux (Anepon et à Cchille Pareau, rue Guyot 17 debontique aud nlier@', 'de lecanda y Mondicta(t Joaguina Polores Conceptionde Orbeta y Alguirre V° Mannel) décédée à Bilbas. 23 calle de Ptodebavriéta le 25 Mai1900@', 'Théonle (par Alfred Slain Geordes) dt à Paris, rue Brag. 4, à1o nee@', 'Deeuit (par Jaéol Guillaume) dtà Paris, rue Falévy 6, deonbeusdtales appt à Mme de Boissieu@', 'deranès (de Marie Gertade Cbout, épouse de Clodoii e Mert) dt àParis, rue du Frinteups. 32@', 'de  Soudietat@', 'Ste Blocq pères et Cié (parladt) répabonl à Gabiel Hanit Coyatrue du Mintemps 7, de 782%@', \"Henriy (par Etugustine Victoire Lecharpentier, épouse de Jean Baptiste) à Parisrued'tthènes, 24, au mariade de 1lel@\", 'Moreau Simond (par Gustave Aalhur Félie) et Marie Françoise Pellerin,epre à Paris, rue des Batiquolles 76, pr vendre mmneuble@', 'Marant (par Marie Caroline Dhval, vligalle, 16, Ve de Clexandretichor Aunand)à Joseph Eugine Royt et Marie Adelphine Julien, à Aonilres, rue de Chatandu 22, 5re 1028+ pr devente@', \"Crat (St livret dela Caissé des retraites pourlaveillesse, 150+, aunom de Jean Joseph) décédé eu soudoi. à Paris, rue del'Amnonciation 28, le 23 8bre 1900@\", 'Toudon (de Pauline Antoinette Meyer, Veeu tresnaes de Clexandre Chatel eteu desaces de Ftrançois décédée ensondom à Paris, rue de Courcelles 192, le 21 février 1901@', 'De Goyeneche (par Carmentdt à Paris, avenue Friedland 15, aau Mariano Nedfuaqui, Md de Villafuerté, même adressespr acq. dela Ste des Cotegux de Longchamps@', 'Ste des socomotives sans foyer (Ct la)par Léon Strancq, à Pars18, avennue Victor Jugo@', \"Lebedel (de Mérie Jean Baptiste) à Paris, avenue Victoria 15, et Luie Augustin Ceury, à Paris, rued'Athénes 24 Communauté réduite aux acquêts@\", 'Deloyenèche (par Juanc Mariais de Goyenèche y Gamis comté de Guaguedt à Paris, avenue Fricdlarre 15, etautres@', \"de Goyenèche (à Carmen) dt à Paris, avenue Friedland 15, à la Sté Ste des Coteauxde Bois de Boulogne et de Longchamps, siégeà Paris, rue del'Osly 9, de 3 paralles de terrainmet 1808@\", 'Guille ( tevens de Marchautfet titre de 396 - de rente 37 auc nom de) Geurg, dt àPrmbaut Croconhill (lymonth comsté de Revon (Augletere) décédé le 9 mai 190 Bebdppiote@', \"Anaier (par Frgngoie Ronchard, épouse de Alphonse), rue Saferrière 17, pr relireroutestommes dela Caisted'Epargnepottale@\", 'Outrey (par Marguerite Olvire Henneis, épouse de Jean Victor dt àParis, rue Lrefendre 176, pr recueillir 31@', 'Mainot (par Engrace Millacet, épouse de Piere) dt ̀ Paris rue de Grenelle Pide Mi Mlarid clesc@', 'Dournié (a près décè de Marie Muller, Ve de Marcelin) décéie en sondonielles Paris, rue Beuret 20, le11 février 190@', 'Teilfparle Citnie à Fraņois) dt à Bois Cdonbes, nille Sehutz, 13, de 38 00f@']\n"
     ]
    }
   ],
   "source": [
    "print(sentences)"
   ]
  },
  {
   "cell_type": "code",
   "execution_count": 14,
   "id": "5ce77126-5c36-4bcd-b8f1-4426cd5a1950",
   "metadata": {
    "scrolled": true,
    "tags": []
   },
   "outputs": [
    {
     "name": "stdout",
     "output_type": "stream",
     "text": [
      "[['An', '1901', ',', 'mois', 'de', 'Étévrier', '@'], ['Dupuis', '(', 'par', 'Pierre', ')', 'à', 'Paris', ',', 'rue', 'Turot', '4', ',', 'à', 'Catherine', 'Bigol', ',', 'safen', '@'], ['a', 'Oo', '(', 'par', 'Mve', ')', 's.n.', 'à', '@'], ['Muret', '(', 'de', 'Paul', 'Louis', 'Georges', ')', 'dt', 'à', 'Paris', ',', 'Bd', 'Rochechouart', '68', ',', 'et', 'Marie', 'Joséphine', 'Lemaire', ',', 'dt', 'à', 'Paris', ',', 'même', 'adreré', '(', 'Sléparation', 'de', 'biens', '@'], ['Duboscqfet', 'titre', 'de', '380+.', 'de', 'rente', '3', '%', 'au', 'nom', 'de', ':', 'Debuisson', ',', 'Juatine', 'Adèle', 'Se', 'de', 'Pnles', ')', 'et', 'autres', ',', 'à', 'Paris', ',', 'rue', \"del'Orcade\", '21', '@'], ['Rousfpa', 'Pdmord', 'Harcisse', 'Bt', 'a', 'Paris', ',', 'rue', 'Canaletti', '15', ',', 'et', 'autrespr', 'touchor', 'V', '@'], ['Chabr', '(', 'par', 'Marie', 'Louise', 'Jatoune', ',', 'Ve', 'de', 'Marie', 'Eusébe', 'Maseine', 'Bt', 'à', 'Billancourt', 'ronte', 'de', 'Sersailles.', '18', ',', 'à', 'Ougène', 'Vahrin', 'et', 'Marceline', 'Fhalino', ',', 'dt', 'à', 'Billancourt', ',', 'rue', 'Mationale', '31', ',', 'de', '21303.88', '@'], ['Gauther', '(', 'par', 'Marie', 'Cexandinte', ')', 'à', 'Paris', ',', 'rue', 'St', 'Ferdinandt', ',', 'à', 'sespère', 'et', 'mère', '@'], ['Oussonppar', 'Geordes', 'Ernert', 'Léou', 'dt', 'à', 'Paris', ',', 'rue', 'Lamarch', '144', ',', 'à', 'sonpère', '@'], ['Lecrosnier', '(', 'etlivret', 'de', 'Caistte', \"d'Epargne\", 'de', 'Paris', ',', 'de157.19', ',', 'aunonde', 'Pierre', 'Pugute', ')', 'décédé', 'en', 'sondomicilé', 'à', 'P', 'Paris', ',', 'rue', 'Descartes', '21', ',', 'le', '16', '8bre', '1900', '@'], ['Lettéronctlespiénond', 'de', 'Louis', 'Cmile', ')', 'décédé', 'ensondoui', 'à', 'Villneuse', 'Heorges', ',', 'le', '15', '7bre', '187', '@'], ['Oupont', '(', 'pr', 'Léonie', 'Clhrtine', 'Détavie', 'rue', 'St', 'Lazare', '82', ',', 'à', 'Honoré', 'Bouscaratets', 'Jeune', ',', 'a', 'ntelaux', '(', 'Anepon', 'et', 'à', 'Cchille', 'Pareau', ',', 'rue', 'Guyot', '17', 'debontique', 'aud', 'nlier', '@'], ['de', 'lecanda', 'y', 'Mondicta', '(', 't', 'Joaguina', 'Polores', 'Conceptionde', 'Orbeta', 'y', 'Alguirre', 'V°', 'Mannel', ')', 'décédée', 'à', 'Bilbas.', '23', 'calle', 'de', 'Ptodebavriéta', 'le', '25', 'Mai1900', '@'], ['Théonle', '(', 'par', 'Alfred', 'Slain', 'Geordes', ')', 'dt', 'à', 'Paris', ',', 'rue', 'Brag.', '4', ',', 'à1o', 'nee', '@'], ['Deeuit', '(', 'par', 'Jaéol', 'Guillaume', ')', 'dtà', 'Paris', ',', 'rue', 'Falévy', '6', ',', 'deonbeusdtales', 'appt', 'à', 'Mme', 'de', 'Boissieu', '@'], ['deranès', '(', 'de', 'Marie', 'Gertade', 'Cbout', ',', 'épouse', 'de', 'Clodoii', 'e', 'Mert', ')', 'dt', 'àParis', ',', 'rue', 'du', 'Frinteups.', '32', '@'], ['de', 'Soudietat', '@'], ['Ste', 'Blocq', 'pères', 'et', 'Cié', '(', 'parladt', ')', 'répabonl', 'à', 'Gabiel', 'Hanit', 'Coyatrue', 'du', 'Mintemps', '7', ',', 'de', '782', '%', '@'], ['Henriy', '(', 'par', 'Etugustine', 'Victoire', 'Lecharpentier', ',', 'épouse', 'de', 'Jean', 'Baptiste', ')', 'à', \"Parisrued'tthènes\", ',', '24', ',', 'au', 'mariade', 'de', '1lel', '@'], ['Moreau', 'Simond', '(', 'par', 'Gustave', 'Aalhur', 'Félie', ')', 'et', 'Marie', 'Françoise', 'Pellerin', ',', 'epre', 'à', 'Paris', ',', 'rue', 'des', 'Batiquolles', '76', ',', 'pr', 'vendre', 'mmneuble', '@'], ['Marant', '(', 'par', 'Marie', 'Caroline', 'Dhval', ',', 'vligalle', ',', '16', ',', 'Ve', 'de', 'Clexandretichor', 'Aunand', ')', 'à', 'Joseph', 'Eugine', 'Royt', 'et', 'Marie', 'Adelphine', 'Julien', ',', 'à', 'Aonilres', ',', 'rue', 'de', 'Chatandu', '22', ',', '5re', '1028+', 'pr', 'devente', '@'], ['Crat', '(', 'St', 'livret', 'dela', 'Caissé', 'des', 'retraites', 'pourlaveillesse', ',', '150+', ',', 'aunom', 'de', 'Jean', 'Joseph', ')', 'décédé', 'eu', 'soudoi.', 'à', 'Paris', ',', 'rue', \"del'Amnonciation\", '28', ',', 'le', '23', '8bre', '1900', '@'], ['Toudon', '(', 'de', 'Pauline', 'Antoinette', 'Meyer', ',', 'Veeu', 'tresnaes', 'de', 'Clexandre', 'Chatel', 'eteu', 'desaces', 'de', 'Ftrançois', 'décédée', 'ensondom', 'à', 'Paris', ',', 'rue', 'de', 'Courcelles', '192', ',', 'le', '21', 'février', '1901', '@'], ['De', 'Goyeneche', '(', 'par', 'Carmentdt', 'à', 'Paris', ',', 'avenue', 'Friedland', '15', ',', 'aau', 'Mariano', 'Nedfuaqui', ',', 'Md', 'de', 'Villafuerté', ',', 'même', 'adressespr', 'acq.', 'dela', 'Ste', 'des', 'Cotegux', 'de', 'Longchamps', '@'], ['Ste', 'des', 'socomotives', 'sans', 'foyer', '(', 'Ct', 'la', ')', 'par', 'Léon', 'Strancq', ',', 'à', 'Pars18', ',', 'avennue', 'Victor', 'Jugo', '@'], ['Lebedel', '(', 'de', 'Mérie', 'Jean', 'Baptiste', ')', 'à', 'Paris', ',', 'avenue', 'Victoria', '15', ',', 'et', 'Luie', 'Augustin', 'Ceury', ',', 'à', 'Paris', ',', \"rued'Athénes\", '24', 'Communauté', 'réduite', 'aux', 'acquêts', '@'], ['Deloyenèche', '(', 'par', 'Juanc', 'Mariais', 'de', 'Goyenèche', 'y', 'Gamis', 'comté', 'de', 'Guaguedt', 'à', 'Paris', ',', 'avenue', 'Fricdlarre', '15', ',', 'etautres', '@'], ['de', 'Goyenèche', '(', 'à', 'Carmen', ')', 'dt', 'à', 'Paris', ',', 'avenue', 'Friedland', '15', ',', 'à', 'la', 'Sté', 'Ste', 'des', 'Coteauxde', 'Bois', 'de', 'Boulogne', 'et', 'de', 'Longchamps', ',', 'siégeà', 'Paris', ',', 'rue', \"del'Osly\", '9', ',', 'de', '3', 'paralles', 'de', 'terrainmet', '1808', '@'], ['Guille', '(', 'tevens', 'de', 'Marchautfet', 'titre', 'de', '396', '-', 'de', 'rente', '37', 'auc', 'nom', 'de', ')', 'Geurg', ',', 'dt', 'àPrmbaut', 'Croconhill', '(', 'lymonth', 'comsté', 'de', 'Revon', '(', 'Augletere', ')', 'décédé', 'le', '9', 'mai', '190', 'Bebdppiote', '@'], ['Anaier', '(', 'par', 'Frgngoie', 'Ronchard', ',', 'épouse', 'de', 'Alphonse', ')', ',', 'rue', 'Saferrière', '17', ',', 'pr', 'relireroutestommes', 'dela', \"Caisted'Epargnepottale\", '@'], ['Outrey', '(', 'par', 'Marguerite', 'Olvire', 'Henneis', ',', 'épouse', 'de', 'Jean', 'Victor', 'dt', 'àParis', ',', 'rue', 'Lrefendre', '176', ',', 'pr', 'recueillir', '31', '@'], ['Mainot', '(', 'par', 'Engrace', 'Millacet', ',', 'épouse', 'de', 'Piere', ')', 'dt', '̀', 'Paris', 'rue', 'de', 'Grenelle', 'Pide', 'Mi', 'Mlarid', 'clesc', '@'], ['Dournié', '(', 'a', 'près', 'décè', 'de', 'Marie', 'Muller', ',', 'Ve', 'de', 'Marcelin', ')', 'décéie', 'en', 'sondonielles', 'Paris', ',', 'rue', 'Beuret', '20', ',', 'le11', 'février', '190', '@'], ['Teilfparle', 'Citnie', 'à', 'Fraņois', ')', 'dt', 'à', 'Bois', 'Cdonbes', ',', 'nille', 'Sehutz', ',', '13', ',', 'de', '38', '00f', '@']]\n"
     ]
    }
   ],
   "source": [
    "print(tokens)"
   ]
  },
  {
   "cell_type": "markdown",
   "id": "6e8e41ef-1c8f-4694-bd3c-f241ee7177d6",
   "metadata": {},
   "source": [
    "On peut également essayer de récupérer les labels avec le modèle utilisé par NLTK."
   ]
  },
  {
   "cell_type": "code",
   "execution_count": 15,
   "id": "d0f10f64-71f0-4921-901f-f9d30ff07d80",
   "metadata": {
    "scrolled": true,
    "tags": []
   },
   "outputs": [
    {
     "name": "stdout",
     "output_type": "stream",
     "text": [
      "GPE Dupuis\n",
      "GPE Paris\n",
      "PERSON Catherine Bigol\n",
      "GPE Muret\n",
      "PERSON Paul Louis Georges\n",
      "GPE Paris\n",
      "PERSON Bd Rochechouart\n",
      "PERSON Marie\n",
      "GPE Paris\n",
      "GPE Duboscqfet\n",
      "PERSON Debuisson\n",
      "PERSON Juatine\n",
      "GPE Pnles\n",
      "GPE Paris\n",
      "PERSON Rousfpa\n",
      "PERSON Pdmord Harcisse Bt\n",
      "GPE Paris\n",
      "GPE Chabr\n",
      "PERSON Marie Louise Jatoune\n",
      "PERSON Ve\n",
      "PERSON Marie\n",
      "PERSON Maseine Bt\n",
      "PERSON Billancourt\n",
      "PERSON Marceline Fhalino\n",
      "PERSON Billancourt\n",
      "GPE Gauther\n",
      "PERSON Marie Cexandinte\n",
      "GPE Paris\n",
      "PERSON Oussonppar\n",
      "PERSON Geordes Ernert\n",
      "GPE Paris\n",
      "GPE Lecrosnier\n",
      "PERSON Caistte\n",
      "GPE Paris\n",
      "PERSON Pierre Pugute\n",
      "PERSON P Paris\n",
      "PERSON Louis Cmile\n",
      "PERSON Villneuse Heorges\n",
      "GPE Oupont\n",
      "PERSON Anepon\n",
      "PERSON Cchille Pareau\n",
      "GPE Mondicta\n",
      "ORGANIZATION Joaguina Polores Conceptionde Orbeta\n",
      "PERSON Alfred Slain Geordes\n",
      "GPE Paris\n",
      "GPE Deeuit\n",
      "GPE Paris\n",
      "PERSON Marie Gertade Cbout\n",
      "GPE Mert\n",
      "GPE Soudietat\n",
      "PERSON Ste\n",
      "ORGANIZATION Blocq\n",
      "PERSON Gabiel Hanit Coyatrue\n",
      "GPE Henriy\n",
      "PERSON Etugustine Victoire Lecharpentier\n",
      "PERSON Jean Baptiste\n",
      "PERSON Moreau\n",
      "ORGANIZATION Simond\n",
      "PERSON Gustave Aalhur\n",
      "PERSON Marie\n",
      "GPE Paris\n",
      "GPE Marant\n",
      "PERSON Marie Caroline Dhval\n",
      "PERSON Ve\n",
      "PERSON Clexandretichor Aunand\n",
      "PERSON Joseph Eugine Royt\n",
      "PERSON Marie Adelphine Julien\n",
      "PERSON Aonilres\n",
      "GPE Crat\n",
      "PERSON Jean Joseph\n",
      "GPE Paris\n",
      "GPE Toudon\n",
      "PERSON Pauline Antoinette Meyer\n",
      "GPE Veeu\n",
      "PERSON Clexandre Chatel\n",
      "GPE Paris\n",
      "PERSON De\n",
      "GPE Paris\n",
      "PERSON Mariano Nedfuaqui\n",
      "PERSON Md\n",
      "PERSON Ste\n",
      "PERSON Cotegux\n",
      "GPE Longchamps\n",
      "PERSON Ste\n",
      "PERSON Pars18\n",
      "PERSON Victor Jugo\n",
      "GPE Lebedel\n",
      "PERSON Jean Baptiste\n",
      "GPE Paris\n",
      "PERSON Luie Augustin Ceury\n",
      "GPE Paris\n",
      "PERSON Juanc Mariais\n",
      "GPE Paris\n",
      "GPE Paris\n",
      "PERSON Coteauxde Bois\n",
      "ORGANIZATION Boulogne\n",
      "GPE Longchamps\n",
      "GPE Paris\n",
      "GPE Guille\n",
      "PERSON Geurg\n",
      "GPE Revon\n",
      "GPE Anaier\n",
      "ORGANIZATION Frgngoie Ronchard\n",
      "GPE Outrey\n",
      "FACILITY Marguerite Olvire Henneis\n",
      "PERSON Jean Victor\n",
      "GPE Mainot\n",
      "PERSON Engrace Millacet\n",
      "GPE Piere\n",
      "GPE Paris\n",
      "ORGANIZATION Grenelle Pide Mi Mlarid\n",
      "PERSON Marie Muller\n",
      "PERSON Ve de Marcelin\n",
      "GPE Paris\n",
      "PERSON Teilfparle\n",
      "ORGANIZATION Citnie\n",
      "PERSON Bois Cdonbes\n",
      "PERSON Sehutz\n"
     ]
    }
   ],
   "source": [
    "# code snippet thanks to https://stackoverflow.com/a/45704548\n",
    "for sent in sentences:\n",
    "   for chunk in nltk.ne_chunk(nltk.pos_tag(nltk.word_tokenize(sent))):\n",
    "      if hasattr(chunk, 'label'):\n",
    "         print(chunk.label(), ' '.join(c[0] for c in chunk))"
   ]
  },
  {
   "cell_type": "markdown",
   "id": "a0b626f0-9a63-4d37-8fdc-2dec5f081aba",
   "metadata": {},
   "source": [
    "## Stanford NLP taggers"
   ]
  },
  {
   "cell_type": "markdown",
   "id": "5f1e802f-c960-40d2-8fec-9e8fd115a0f1",
   "metadata": {},
   "source": [
    "Il est possible d'importer les taggers mis à disposition par le Stanford NLP Group. Voir https://nlp.stanford.edu/software/."
   ]
  },
  {
   "cell_type": "markdown",
   "id": "f788c8cc-14dd-45db-96ec-ee449629ac27",
   "metadata": {},
   "source": [
    "### Stanford POS Tagger"
   ]
  },
  {
   "cell_type": "markdown",
   "id": "c211880d-1351-442a-bbd6-b2de4e7b436e",
   "metadata": {},
   "source": [
    "La page du tagger POS de Stanford est disponible ici : https://nlp.stanford.edu/software/tagger.shtml\n",
    "        \n",
    "Pour l'utiliser, il est nécessaire d'en avoir une copie en local."
   ]
  },
  {
   "cell_type": "markdown",
   "id": "577888a8-4a5e-4ee8-a648-42e8cbd1ed01",
   "metadata": {},
   "source": [
    "Pour l'utiliser à l'aide de Python et NLTK, voir la documentation https://github.com/nltk/nltk/blob/develop/nltk/tag/stanford.py#L138"
   ]
  },
  {
   "cell_type": "code",
   "execution_count": 2,
   "id": "845ef14e-dd5b-4ea7-b7e6-ad9f6ef1a8b4",
   "metadata": {},
   "outputs": [],
   "source": [
    "# On importe la classe StanfordPOSTagger agissant comme une interface pour utiliser le tagger en local\n",
    "from nltk.tag import StanfordPOSTagger"
   ]
  },
  {
   "cell_type": "code",
   "execution_count": 184,
   "id": "1a0a3558-b9dd-46c9-937b-6a216a097b6f",
   "metadata": {
    "scrolled": true,
    "tags": []
   },
   "outputs": [
    {
     "name": "stdout",
     "output_type": "stream",
     "text": [
      "[[('An', 'DET'), ('1901,', 'NUM'), ('mois', 'NOUN'), ('de', 'ADP'), ('Étévrier@', 'PROPN')], [('Dupuis', 'PROPN'), ('(par', 'PROPN'), ('Pierre)', 'PROPN'), ('à', 'PROPN'), ('Paris,', 'PROPN'), ('rue', 'NOUN'), ('Turot', 'PROPN'), ('4,', 'NUM'), ('à', 'SYM'), ('Catherine', 'PROPN'), ('Bigol,', 'PROPN'), ('safen@', 'PROPN')], [('a', 'AUX'), ('Oo', 'X'), ('(par', 'X'), ('Mve)', 'X'), ('s.n.', 'X'), ('à@', 'X')], [('Muret', 'PROPN'), ('(de', 'PROPN'), ('Paul', 'PROPN'), ('Louis', 'PROPN'), ('Georges)', 'PROPN'), ('dt', 'X'), ('à', 'X'), ('Paris,', 'X'), ('Bd', 'X'), ('Rochechouart', 'PROPN'), ('68,', 'NUM'), ('et', 'CCONJ'), ('Marie', 'PROPN'), ('Joséphine', 'PROPN'), ('Lemaire,', 'PROPN'), ('dt', 'X'), ('à', 'X'), ('Paris,', 'X'), ('même', 'X'), ('adreré', 'X'), ('(Sléparation', 'NOUN'), ('de', 'ADP'), ('biens@', 'NOUN')], [('Duboscqfet', 'PROPN'), ('titre', 'NOUN'), ('de', 'ADP'), ('380+.', 'NUM'), ('de', 'ADP'), ('rente', 'NOUN'), ('3%', 'X'), ('au', 'X'), ('nom', 'NOUN'), ('de:', 'X'), ('Debuisson,', 'X'), ('Juatine', 'PROPN'), ('Adèle', 'PROPN'), ('Se', 'PRON'), ('de', 'ADP'), ('Pnles)', 'PROPN'), ('et', 'CCONJ'), ('autres,', 'PROPN'), ('à', 'PROPN'), ('Paris,', 'PROPN'), ('rue', 'NOUN'), (\"del'Orcade\", 'PROPN'), ('21@', 'NUM')], [('Rousfpa', 'PROPN'), ('Pdmord', 'PROPN'), ('Harcisse', 'PROPN'), ('Bt', 'PROPN'), ('a', 'AUX'), ('Paris,', 'VERB'), ('rue', 'NOUN'), ('Canaletti', 'PROPN'), ('15,', 'NUM'), ('et', 'CCONJ'), ('autrespr', 'VERB'), ('touchor', 'NOUN'), ('V@', 'SYM')], [('Chabr', 'PROPN'), ('(par', 'PROPN'), ('Marie', 'PROPN'), ('Louise', 'PROPN'), ('Jatoune,', 'PROPN'), ('Ve', 'ADJ'), ('de', 'ADP'), ('Marie', 'PROPN'), ('Eusébe', 'PROPN'), ('Maseine', 'PROPN'), ('Bt', 'PROPN'), ('à', 'PROPN'), ('Billancourt', 'PROPN'), ('ronte', 'NOUN'), ('de', 'ADP'), ('Sersailles.', 'NOUN'), ('18,', 'NUM'), ('à', 'NOUN'), ('Ougène', 'ADJ'), ('Vahrin', 'PROPN'), ('et', 'CCONJ'), ('Marceline', 'PROPN'), ('Fhalino,', 'PROPN'), ('dt', 'X'), ('à', 'X'), ('Billancourt,', 'X'), ('rue', 'NOUN'), ('Mationale', 'PROPN'), ('31,', 'NUM'), ('de', 'ADP'), ('21303.88@', 'NUM')], [('Gauther', 'PROPN'), ('(par', 'PROPN'), ('Marie', 'PROPN'), ('Cexandinte)', 'PROPN'), ('à', 'PROPN'), ('Paris,', 'PROPN'), ('rue', 'NOUN'), ('St', 'NOUN'), ('Ferdinandt,', 'X'), ('à', 'X'), ('sespère', 'X'), ('et', 'CCONJ'), ('mère@', 'X')], [('Oussonppar', 'PROPN'), ('Geordes', 'PROPN'), ('Ernert', 'PROPN'), ('Léou', 'PROPN'), ('dt', 'X'), ('à', 'X'), ('Paris,', 'X'), ('rue', 'NOUN'), ('Lamarch', 'PROPN'), ('144,', 'NUM'), ('à', 'SYM'), ('sonpère@', 'SYM')], [('Lecrosnier', 'PROPN'), ('(etlivret', 'PROPN'), ('de', 'ADP'), ('Caistte', 'PROPN'), (\"d'Epargne\", 'PROPN'), ('de', 'ADP'), ('Paris,', 'PROPN'), ('de157.19,', 'NUM'), ('aunonde', 'NOUN'), ('Pierre', 'PROPN'), ('Pugute)', 'PROPN'), ('décédé', 'VERB'), ('en', 'ADP'), ('sondomicilé', 'NOUN'), ('à', 'ADP'), ('P', 'PROPN'), ('Paris,', 'PROPN'), ('rue', 'NOUN'), ('Descartes', 'PROPN'), ('21,', 'NUM'), ('le', 'DET'), ('16', 'NUM'), ('8bre', 'NUM'), ('1900@', 'NUM')], [('Lettéronctlespiénond', 'PROPN'), ('de', 'ADP'), ('Louis', 'PROPN'), ('Cmile)', 'PROPN'), ('décédé', 'PROPN'), ('ensondoui', 'VERB'), ('à', 'ADP'), ('Villneuse', 'PROPN'), ('Heorges,', 'PROPN'), ('le', 'DET'), ('15', 'NUM'), ('7bre', 'NUM'), ('187@', 'NUM')], [('Oupont', 'PROPN'), ('(pr', 'PROPN'), ('Léonie', 'PROPN'), ('Clhrtine', 'PROPN'), ('Détavie', 'PROPN'), ('rue', 'NOUN'), ('St', 'NOUN'), ('Lazare', 'PROPN'), ('82,', 'NUM'), ('à', 'SYM'), ('Honoré', 'NOUN'), ('Bouscaratets', 'PROPN'), ('Jeune,', 'PROPN'), ('a', 'AUX'), ('ntelaux', 'VERB'), ('(Anepon', 'PROPN'), ('et', 'CCONJ'), ('à', 'PROPN'), ('Cchille', 'PROPN'), ('Pareau,', 'PROPN'), ('rue', 'NOUN'), ('Guyot', 'PROPN'), ('17', 'NUM'), ('debontique', 'ADJ'), ('aud', 'NOUN'), ('nlier@', 'ADJ')], [('de', 'ADP'), ('lecanda', 'PROPN'), ('y', 'ADV'), ('Mondicta(t', 'PROPN'), ('Joaguina', 'PROPN'), ('Polores', 'PROPN'), ('Conceptionde', 'PROPN'), ('Orbeta', 'PROPN'), ('y', 'ADV'), ('Alguirre', 'PROPN'), ('V°', 'PROPN'), ('Mannel)', 'PROPN'), ('décédée', 'VERB'), ('à', 'ADP'), ('Bilbas.', 'PROPN'), ('23', 'NUM'), ('calle', 'NOUN'), ('de', 'ADP'), ('Ptodebavriéta', 'PROPN'), ('le', 'DET'), ('25', 'NUM'), ('Mai1900@', 'NOUN')], [('Théonle', 'PROPN'), ('(par', 'PROPN'), ('Alfred', 'PROPN'), ('Slain', 'PROPN'), ('Geordes)', 'PROPN'), ('dt', 'X'), ('à', 'X'), ('Paris,', 'X'), ('rue', 'NOUN'), ('Brag.', 'X'), ('4,', 'X'), ('à1o', 'X'), ('nee@', 'X')], [('Deeuit', 'PROPN'), ('(par', 'PROPN'), ('Jaéol', 'PROPN'), ('Guillaume)', 'PROPN'), ('dtà', 'PROPN'), ('Paris,', 'PROPN'), ('rue', 'NOUN'), ('Falévy', 'PROPN'), ('6,', 'NUM'), ('deonbeusdtales', 'ADJ'), ('appt', 'NOUN'), ('à', 'ADP'), ('Mme', 'NOUN'), ('de', 'ADP'), ('Boissieu@', 'PROPN')], [('deranès', 'ADV'), ('(de', 'ADJ'), ('Marie', 'PROPN'), ('Gertade', 'PROPN'), ('Cbout,', 'PROPN'), ('épouse', 'VERB'), ('de', 'ADP'), ('Clodoii', 'PROPN'), ('e', 'X'), ('Mert)', 'X'), ('dt', 'X'), ('àParis,', 'X'), ('rue', 'NOUN'), ('du', 'DET'), ('Frinteups.', 'NOUN'), ('32@', 'NUM')], [('de', 'ADP'), ('Soudietat@', 'PROPN')], [('Ste', 'PROPN'), ('Blocq', 'PROPN'), ('pères', 'PROPN'), ('et', 'CCONJ'), ('Cié', 'PROPN'), ('(parladt)', 'PROPN'), ('répabonl', 'PROPN'), ('à', 'PROPN'), ('Gabiel', 'PROPN'), ('Hanit', 'PROPN'), ('Coyatrue', 'PROPN'), ('du', 'PROPN'), ('Mintemps', 'PROPN'), ('7,', 'NUM'), ('de', 'ADP'), ('782%@', 'NUM')], [('Henriy', 'PROPN'), ('(par', 'PROPN'), ('Etugustine', 'PROPN'), ('Victoire', 'PROPN'), ('Lecharpentier,', 'PROPN'), ('épouse', 'VERB'), ('de', 'ADP'), ('Jean', 'PROPN'), ('Baptiste)', 'PROPN'), ('à', 'PROPN'), (\"Parisrued'tthènes,\", 'PROPN'), ('24,', 'NUM'), ('au', 'ADP'), ('mariade', 'NOUN'), ('de', 'ADP'), ('1lel@', 'NUM')], [('Moreau', 'PROPN'), ('Simond', 'PROPN'), ('(par', 'PROPN'), ('Gustave', 'PROPN'), ('Aalhur', 'PROPN'), ('Félie)', 'PROPN'), ('et', 'CCONJ'), ('Marie', 'PROPN'), ('Françoise', 'PROPN'), ('Pellerin,epre', 'PROPN'), ('à', 'PROPN'), ('Paris,', 'PROPN'), ('rue', 'NOUN'), ('des', 'DET'), ('Batiquolles', 'PROPN'), ('76,', 'NUM'), ('pr', 'PRON'), ('vendre', 'VERB'), ('mmneuble@', 'SYM')], [('Marant', 'PROPN'), ('(par', 'PROPN'), ('Marie', 'PROPN'), ('Caroline', 'PROPN'), ('Dhval,', 'PROPN'), ('vligalle,', 'PROPN'), ('16,', 'NUM'), ('Ve', 'ADJ'), ('de', 'ADP'), ('Clexandretichor', 'PROPN'), ('Aunand)à', 'PROPN'), ('Joseph', 'PROPN'), ('Eugine', 'PROPN'), ('Royt', 'PROPN'), ('et', 'CCONJ'), ('Marie', 'PROPN'), ('Adelphine', 'PROPN'), ('Julien,', 'PROPN'), ('à', 'PROPN'), ('Aonilres,', 'PROPN'), ('rue', 'NOUN'), ('de', 'ADP'), ('Chatandu', 'PROPN'), ('22,', 'NUM'), ('5re', 'ADJ'), ('1028+', 'NUM'), ('pr', 'X'), ('devente@', 'X')], [('Crat', 'PROPN'), ('(St', 'PROPN'), ('livret', 'NOUN'), ('dela', 'ADP'), ('Caissé', 'PROPN'), ('des', 'DET'), ('retraites', 'NOUN'), ('pourlaveillesse,', 'ADJ'), ('150+,', 'NUM'), ('aunom', 'NOUN'), ('de', 'ADP'), ('Jean', 'PROPN'), ('Joseph)', 'PROPN'), ('décédé', 'PROPN'), ('eu', 'VERB'), ('soudoi.', 'DET'), ('à', 'NOUN'), ('Paris,', 'ADJ'), ('rue', 'NOUN'), (\"del'Amnonciation\", 'PROPN'), ('28,', 'NUM'), ('le', 'DET'), ('23', 'NUM'), ('8bre', 'NUM'), ('1900@', 'NUM')], [('Toudon', 'PROPN'), ('(de', 'PROPN'), ('Pauline', 'PROPN'), ('Antoinette', 'PROPN'), ('Meyer,', 'PROPN'), ('Veeu', 'PROPN'), ('tresnaes', 'NOUN'), ('de', 'ADP'), ('Clexandre', 'PROPN'), ('Chatel', 'PROPN'), ('eteu', 'VERB'), ('desaces', 'NOUN'), ('de', 'ADP'), ('Ftrançois', 'PROPN'), ('décédée', 'VERB'), ('ensondom', 'NOUN'), ('à', 'X'), ('Paris,', 'X'), ('rue', 'NOUN'), ('de', 'ADP'), ('Courcelles', 'PROPN'), ('192,', 'NUM'), ('le', 'DET'), ('21', 'NUM'), ('février', 'NOUN'), ('1901@', 'NUM')], [('De', 'ADP'), ('Goyeneche', 'PROPN'), ('(par', 'PROPN'), ('Carmentdt', 'PROPN'), ('à', 'ADP'), ('Paris,', 'PROPN'), ('avenue', 'NOUN'), ('Friedland', 'PROPN'), ('15,', 'NUM'), ('aau', 'NOUN'), ('Mariano', 'PROPN'), ('Nedfuaqui,', 'PROPN'), ('Md', 'PROPN'), ('de', 'ADP'), ('Villafuerté,', 'PROPN'), ('même', 'ADJ'), ('adressespr', 'NOUN'), ('acq.', 'ADJ'), ('dela', 'VERB'), ('Ste', 'PROPN'), ('des', 'DET'), ('Cotegux', 'PROPN'), ('de', 'ADP'), ('Longchamps@', 'PROPN')], [('Ste', 'PROPN'), ('des', 'DET'), ('socomotives', 'NOUN'), ('sans', 'ADP'), ('foyer', 'NOUN'), ('(Ct', 'PROPN'), ('la)par', 'PROPN'), ('Léon', 'PROPN'), ('Strancq,', 'PROPN'), ('à', 'PROPN'), ('Pars18,', 'PROPN'), ('avennue', 'VERB'), ('Victor', 'PROPN'), ('Jugo@', 'PROPN')], [('Lebedel', 'PROPN'), ('(de', 'PROPN'), ('Mérie', 'PROPN'), ('Jean', 'PROPN'), ('Baptiste)', 'PROPN'), ('à', 'PROPN'), ('Paris,', 'PROPN'), ('avenue', 'NOUN'), ('Victoria', 'PROPN'), ('15,', 'NUM'), ('et', 'CCONJ'), ('Luie', 'PROPN'), ('Augustin', 'PROPN'), ('Ceury,', 'PROPN'), ('à', 'PROPN'), ('Paris,', 'PROPN'), (\"rued'Athénes\", 'PROPN'), ('24', 'NUM'), ('Communauté', 'PROPN'), ('réduite', 'VERB'), ('aux', 'ADJ'), ('acquêts@', 'NOUN')], [('Deloyenèche', 'PROPN'), ('(par', 'PROPN'), ('Juanc', 'PROPN'), ('Mariais', 'PROPN'), ('de', 'ADP'), ('Goyenèche', 'PROPN'), ('y', 'ADV'), ('Gamis', 'PROPN'), ('comté', 'VERB'), ('de', 'ADP'), ('Guaguedt', 'PROPN'), ('à', 'ADP'), ('Paris,', 'PROPN'), ('avenue', 'NOUN'), ('Fricdlarre', 'PROPN'), ('15,', 'NUM'), ('etautres@', 'SYM')], [('de', 'ADP'), ('Goyenèche', 'PROPN'), ('(à', 'X'), ('Carmen)', 'X'), ('dt', 'X'), ('à', 'X'), ('Paris,', 'X'), ('avenue', 'NOUN'), ('Friedland', 'PROPN'), ('15,', 'NUM'), ('à', 'ADP'), ('la', 'DET'), ('Sté', 'PROPN'), ('Ste', 'PROPN'), ('des', 'DET'), ('Coteauxde', 'PROPN'), ('Bois', 'PROPN'), ('de', 'ADP'), ('Boulogne', 'PROPN'), ('et', 'CCONJ'), ('de', 'ADP'), ('Longchamps,', 'PROPN'), ('siégeà', 'PROPN'), ('Paris,', 'PROPN'), ('rue', 'NOUN'), (\"del'Osly\", 'PROPN'), ('9,', 'NUM'), ('de', 'ADP'), ('3', 'NUM'), ('paralles', 'NOUN'), ('de', 'ADP'), ('terrainmet', 'NOUN'), ('1808@', 'NUM')], [('Guille', 'PROPN'), ('(', 'PUNCT'), ('tevens', 'NOUN'), ('de', 'ADP'), ('Marchautfet', 'PROPN'), ('titre', 'NOUN'), ('de', 'ADP'), ('396', 'NUM'), ('-', 'PUNCT'), ('de', 'ADP'), ('rente', 'NOUN'), ('37', 'NUM'), ('auc', 'X'), ('nom', 'NOUN'), ('de)', 'X'), ('Geurg,', 'X'), ('dt', 'X'), ('àPrmbaut', 'X'), ('Croconhill', 'X'), ('(lymonth', 'X'), ('comsté', 'X'), ('de', 'ADP'), ('Revon', 'PROPN'), ('(Augletere)', 'PROPN'), ('décédé', 'VERB'), ('le', 'DET'), ('9', 'NUM'), ('mai', 'NOUN'), ('190', 'NUM'), ('Bebdppiote@', 'NOUN')], [('Anaier', 'PROPN'), ('(par', 'PROPN'), ('Frgngoie', 'PROPN'), ('Ronchard,', 'PROPN'), ('épouse', 'VERB'), ('de', 'ADP'), ('Alphonse),', 'PROPN'), ('rue', 'NOUN'), ('Saferrière', 'PROPN'), ('17,', 'NUM'), ('pr', 'ADP'), ('relireroutestommes', 'NOUN'), ('dela', 'ADP'), (\"Caisted'Epargnepottale@\", 'PROPN')], [('Outrey', 'PROPN'), ('(par', 'PROPN'), ('Marguerite', 'PROPN'), ('Olvire', 'PROPN'), ('Henneis,', 'PROPN'), ('épouse', 'VERB'), ('de', 'ADP'), ('Jean', 'PROPN'), ('Victor', 'PROPN'), ('dt', 'ADP'), ('àParis,', 'PROPN'), ('rue', 'NOUN'), ('Lrefendre', 'PROPN'), ('176,', 'NUM'), ('pr', 'X'), ('recueillir', 'VERB'), ('31@', 'NUM')], [('Mainot', 'PROPN'), ('(par', 'PROPN'), ('Engrace', 'PROPN'), ('Millacet,', 'PROPN'), ('épouse', 'VERB'), ('de', 'ADP'), ('Piere)', 'PROPN'), ('dt', 'ADP'), ('̀', 'PROPN'), ('Paris', 'PROPN'), ('rue', 'NOUN'), ('de', 'ADP'), ('Grenelle', 'PROPN'), ('Pide', 'PROPN'), ('Mi', 'PROPN'), ('Mlarid', 'PROPN'), ('clesc@', 'PROPN')], [('Dournié', 'PROPN'), ('(a', 'PROPN'), ('près', 'VERB'), ('décè', 'ADV'), ('de', 'ADP'), ('Marie', 'PROPN'), ('Muller,', 'PROPN'), ('Ve', 'ADJ'), ('de', 'ADP'), ('Marcelin)', 'PROPN'), ('décéie', 'VERB'), ('en', 'ADP'), ('sondonielles', 'NOUN'), ('Paris,', 'ADJ'), ('rue', 'NOUN'), ('Beuret', 'PROPN'), ('20,', 'NUM'), ('le11', 'NUM'), ('février', 'NOUN'), ('190@', 'NUM')], [('Teilfparle', 'PROPN'), ('Citnie', 'PROPN'), ('à', 'PROPN'), ('Fraņois)', 'PROPN'), ('dt', 'ADP'), ('à', 'PROPN'), ('Bois', 'PROPN'), ('Cdonbes,', 'PROPN'), ('nille', 'VERB'), ('Sehutz,', 'PROPN'), ('13,', 'NUM'), ('de', 'ADP'), ('38', 'NUM'), ('00f@', 'NUM')]]\n"
     ]
    }
   ],
   "source": [
    "# Code snippet thanks to https://stackoverflow.com/a/44478073\n",
    "import os\n",
    "\n",
    "# On indique le chemin du .jar pour le tagger\n",
    "jar = '/home/hugoscheithauer/Dev/NER/ner_python/ner_nltk/stanford_pos_tagger/stanford-postagger-full-2020-11-17/stanford-postagger-4.2.0.jar'\n",
    "# On indique le chemin du modèle utilisé par le tagger\n",
    "model = '/home/hugoscheithauer/Dev/NER/ner_python/ner_nltk/stanford_pos_tagger/stanford-postagger-full-2020-11-17/models/french-ud.tagger'\n",
    "# On indique le chemin vers le JDK\n",
    "java_path = \"/usr/lib/jvm/java-14-openjdk-amd64/bin/java\"\n",
    "os.environ['JAVAHOME'] = java_path\n",
    "\n",
    "# On instancie l'objet StanfordPOSTagger, en passant en paramètre le modèle, et le chemin vers le tagger\n",
    "pos_tagger = StanfordPOSTagger(model, jar, encoding='utf8')\n",
    "# On récupère le POS dans une liste de tuples (token, POS)\n",
    "res = [pos_tagger.tag(sent.split()) for sent in sentences]\n",
    "print(res)"
   ]
  },
  {
   "cell_type": "markdown",
   "id": "6d57dee7-d317-4c11-a49f-9b1cf31957af",
   "metadata": {},
   "source": [
    "## NER "
   ]
  },
  {
   "cell_type": "markdown",
   "id": "7f092dc9-998d-4ab6-84a2-35fe4b89d7ef",
   "metadata": {},
   "source": [
    "La même opération est réalisable avec le tagger NER de Stanford NLP. "
   ]
  },
  {
   "cell_type": "code",
   "execution_count": 5,
   "id": "60d40fcf-ca04-4f22-95ca-ccd538c14156",
   "metadata": {},
   "outputs": [],
   "source": [
    "from nltk.tag import StanfordNERTagger"
   ]
  },
  {
   "cell_type": "markdown",
   "id": "6e8c17d4-8c46-4d4e-80f1-44f2547dd871",
   "metadata": {},
   "source": [
    "Cependant, aucun modèle pré-entraîné de NER pour le français n'est disponible. Il est cependant possible d'en entraîner un.\n",
    "\n",
    "Voir la documentation.\n",
    "\n",
    "* https://nlp.stanford.edu/software/CRF-NER.html\n",
    "* https://nlp.stanford.edu/software/crf-faq.html\n",
    "* https://medium.com/sicara/train-ner-model-with-nltk-stanford-tagger-english-french-german-6d90573a9486\n",
    "* https://medium.com/@subshakya591/custom-trained-nltk-stanford-ner-tagger-and-spacy-ner-tagger-comparison-d4e20e41b0bf"
   ]
  },
  {
   "cell_type": "code",
   "execution_count": 6,
   "id": "2bc26386-209a-4ae9-a68c-dc72a556bd2b",
   "metadata": {},
   "outputs": [
    {
     "data": {
      "text/plain": [
       "nltk.tag.stanford.StanfordNERTagger"
      ]
     },
     "execution_count": 6,
     "metadata": {},
     "output_type": "execute_result"
    }
   ],
   "source": [
    "StanfordNERTagger"
   ]
  },
  {
   "cell_type": "markdown",
   "id": "d627970a-ecfa-4209-9334-5b2c6f38a0da",
   "metadata": {},
   "source": [
    "Malheureusement, un problème est survenu durant l'entraînement d'un modèle de NER avec le tagger. L'entraînement se déroule normalement, mais aucun modèle n'est créé en output. "
   ]
  }
 ],
 "metadata": {
  "kernelspec": {
   "display_name": "Python 3",
   "language": "python",
   "name": "python3"
  },
  "language_info": {
   "codemirror_mode": {
    "name": "ipython",
    "version": 3
   },
   "file_extension": ".py",
   "mimetype": "text/x-python",
   "name": "python",
   "nbconvert_exporter": "python",
   "pygments_lexer": "ipython3",
   "version": "3.8.8"
  }
 },
 "nbformat": 4,
 "nbformat_minor": 5
}
