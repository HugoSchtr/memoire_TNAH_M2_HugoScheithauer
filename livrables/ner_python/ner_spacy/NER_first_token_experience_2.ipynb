{
 "cells": [
  {
   "cell_type": "markdown",
   "id": "5d8e91df-0b91-402e-98fd-7ec9c90ec6fb",
   "metadata": {},
   "source": [
    "# Evaluation NER - Sorties HTR brutes"
   ]
  },
  {
   "cell_type": "markdown",
   "id": "39de3367-d291-48c4-9e7b-5d0411ecb36b",
   "metadata": {},
   "source": [
    "## Cas d'usage - indexation automatique des noms de personne et d'organisation des enregistrements des pages des répertoires de notaires"
   ]
  },
  {
   "cell_type": "markdown",
   "id": "12e1c3a0-7153-482c-a626-d073b96633d1",
   "metadata": {},
   "source": [
    "Pour se rendre compte de l'efficacité et la régularité du NER, on peut observer chaque première entité de chaque enregistrement. Dans le cas de LECTAUREP, celles-ci doivent nécessairement être une `PER` (personne) ou une `ORG` (organisation). Si l'extraction est régulière, on peut envisager le cas d'une indexation automatique des noms de personnes et d'organisations présents dans les répertoires de notaires.\n",
    "\n",
    "Dans cette expérience, on mesurera donc cette régularité en fonction du score de CER, sur une seule et même page.\n",
    "\n",
    "Le CER a été obtenu en appliquant plusieurs modèles d'HTR et grâce à la librairie [KaMI](https://gitlab.inria.fr/dh-projects/kami/kami-lib)."
   ]
  },
  {
   "cell_type": "markdown",
   "id": "eda61208-327a-48ca-bf08-7708bd3b0be4",
   "metadata": {},
   "source": [
    "## Imports et modèle de langue"
   ]
  },
  {
   "cell_type": "code",
   "execution_count": 1,
   "id": "e48c34b0-8824-4eaf-9b8e-519a142b12f5",
   "metadata": {},
   "outputs": [],
   "source": [
    "from pathlib import Path\n",
    "import re\n",
    "\n",
    "from bs4 import BeautifulSoup\n",
    "import matplotlib.pyplot as plt\n",
    "import spacy"
   ]
  },
  {
   "cell_type": "markdown",
   "id": "6ecb84c2-c673-4782-ab23-be46071b8c20",
   "metadata": {},
   "source": [
    " On charge le [modèle de langue française](https://spacy.io/models/fr#fr_core_news_lg) de spaCy."
   ]
  },
  {
   "cell_type": "code",
   "execution_count": 2,
   "id": "bef169f9-39e6-4c23-8301-0b26993ddd0f",
   "metadata": {},
   "outputs": [],
   "source": [
    "nlp_pipeline_fr = spacy.load(\"fr_core_news_lg\")"
   ]
  },
  {
   "cell_type": "markdown",
   "id": "fd495fa0-3f7b-4efa-9b40-dcaa4d6f85cc",
   "metadata": {},
   "source": [
    "## Fonctions utilisées pour les tests"
   ]
  },
  {
   "cell_type": "markdown",
   "id": "f3b952d4-225f-4f14-8067-f6727e66901f",
   "metadata": {},
   "source": [
    "Pour le pré-traitement, on utilise la segmentation des régions et l'annotation sémantique des baselines d'eScriptorium.\n",
    "\n",
    "On récupère la colonne 5, et on crée une liste qui contiendra un enregistrement par index.\n",
    "\n",
    "`[enregistrement 1, enregistrement 2, enregistrement 3]`\n",
    "\n",
    "Chaque index passera dans la pipeline NLP.\n",
    "\n",
    "On essaye également de corriger l'HTR en séparant les mots aglutinés à l'aide des majuscules, et en utilisant des regex."
   ]
  },
  {
   "cell_type": "code",
   "execution_count": 3,
   "id": "a53f44f7-23a5-4aea-ab05-25b6c296a5d7",
   "metadata": {},
   "outputs": [],
   "source": [
    "def open_and_parse(source):\n",
    "    '''open a file and parsed its content with BeautifulSoup'''\n",
    "    with open(source, 'r', encoding='utf8') as fh:\n",
    "        file_content = fh.read()\n",
    "    parsed_source = BeautifulSoup(file_content, 'xml')\n",
    "    return parsed_source\n",
    "\n",
    "\n",
    "def split_word_on_caps(entry):\n",
    "    '''\n",
    "    Spots words stuck together and split them using regex\n",
    "    \n",
    "    e.g. thisIsAnExample --> this Is An Example\n",
    "    '''\n",
    "    \n",
    "    # word segmentation using regex\n",
    "    # regex are based on study of LECTAUREP's textual data and its recurrent errors\n",
    "    letter_before_caps_splitted = re.sub(r\"(\\w)([A-Z])\", r\"\\1 \\2\", entry)\n",
    "    # undo previous correction of an abbreviation used in the répertoires de notaires\n",
    "    correction_abbreviated_sson = re.sub(\"S Son\", \"SSon\", letter_before_caps_splitted)\n",
    "    blank_space_address_number = re.sub(r'(\\d{2})([A-z])', r'\\1 \\2', correction_abbreviated_sson)\n",
    "    special_character_before_caps_splitted = re.sub(r\"(\\))([A-Z])\", r\"\\1 \\2\", blank_space_address_number)\n",
    "    blank_space_address = re.sub(\"del'\", \"de l'\", special_character_before_caps_splitted)\n",
    "    blank_space_ruede = re.sub(\"ruede\", \"rue de\", blank_space_address)\n",
    "    blank_space_ruedu = re.sub(\"ruedu\", \"rue du\", blank_space_ruede)\n",
    "    blank_space_ruedela = re.sub(\"ruedela\", \"rue de la\", blank_space_ruedu)\n",
    "    blank_space_sondomicile = re.sub(\"sondomicile\", \"son domicile\", blank_space_ruedela)\n",
    "    blank_space_beginning_date = re.sub(\"([A-z])([1-9])\", r\"\\1 \\2\", blank_space_sondomicile)\n",
    "    blank_space_month_year = re.sub(r\"([A-z])(\\d{3,4})\", r\"\\1 \\2\", blank_space_beginning_date)\n",
    "    blank_space_before_parenthesis = re.sub(r\"([A-z])(\\()\", r\"\\1 \\2\", blank_space_month_year)\n",
    "    # First encoding for à : \\xc3\\xa0\n",
    "    blank_space_before_à = re.sub(r\"([^l\\s])(à)\", r\"\\1 \\2\", blank_space_before_parenthesis)\n",
    "    blank_space_after_à = re.sub(r\"(à)([A-z])\", r\"\\1 \\2\", blank_space_before_à)\n",
    "    # Second encoding for à : a\\xcc\\x80\n",
    "    blank_space_before_à_2 = re.sub(r\"([^l\\s])(à)\", r\"\\1 \\2\", blank_space_after_à)\n",
    "    blank_space_after_à_2 = re.sub(r\"(à)([A-z])\", r\"\\1 \\2\", blank_space_before_à_2)\n",
    "\n",
    "    return blank_space_after_à_2\n",
    "\n",
    "\n",
    "def get_transcription_list(xml_tree):\n",
    "    '''find text nodes in PAGE XML and get them ready for NER processing'''\n",
    "    transcriptions = []\n",
    "    col_5 = xml_tree.find_all('TextRegion', custom=\"structure {type:col_5;}\")\n",
    "    \n",
    "    for col in col_5:\n",
    "        baselines = col.find_all('TextLine')\n",
    "        for baseline in baselines:\n",
    "            if baseline.has_attr('custom'):\n",
    "                if baseline['custom'] == 'structure {type:first_line;}':\n",
    "                    transcriptions.append([baseline.text.strip('\\n')])\n",
    "            else:\n",
    "                transcriptions[-1].append(baseline.text.strip('\\n'))\n",
    "                \n",
    "    transcriptions = [[' '.join(transcription)] for transcription in transcriptions]\n",
    "    transcriptions_flat_list = [entry for sublist in transcriptions for entry in sublist]\n",
    "                    \n",
    "    return transcriptions_flat_list"
   ]
  },
  {
   "cell_type": "markdown",
   "id": "09083e59-430d-4e0a-9c4b-c10007fc27cc",
   "metadata": {},
   "source": [
    "## Fonctions de visualisation"
   ]
  },
  {
   "cell_type": "code",
   "execution_count": 4,
   "id": "c636fb15-faba-4452-940c-c997d64e7392",
   "metadata": {},
   "outputs": [],
   "source": [
    "def show_entities(nlp_processed_text):\n",
    "    '''for each entry in a page, show the entry and its named entities'''\n",
    "    for enregistrement in nlp_processed_text:\n",
    "        print(enregistrement)\n",
    "        print('\\n')\n",
    "        for ent in enregistrement.ents:\n",
    "            print(ent.text, ent.label_)\n",
    "        print('_________ \\n')\n",
    "        \n",
    "        \n",
    "def show_ner_prediction_nb(nlp_processed_text):\n",
    "    '''based on NER prediction, show how many named entities were recognized in a page'''\n",
    "    ent_count = 0\n",
    "    for enregistrement in nlp_processed_text:\n",
    "        ent_count += len(enregistrement.ents)\n",
    "    print(f'Prédiction NER : {ent_count} entités nommées')\n",
    "    \n",
    "    return ent_count"
   ]
  },
  {
   "cell_type": "markdown",
   "id": "2b7a7e22-e66e-417b-8996-13f2c94f3f18",
   "metadata": {},
   "source": [
    "### Métriques"
   ]
  },
  {
   "cell_type": "markdown",
   "id": "b0853c81-6e98-4be4-8eea-5cf679d052ac",
   "metadata": {},
   "source": [
    "Pour une page avec 18 entrées, on devrait pouvoir retrouver 18 entités `ORG` ou `PER` en première place. \n",
    "\n",
    "Avec ces données, on peut ainsi calculer l'accuracy de la façon de suivante :\n",
    "\n",
    "$$\n",
    "\\frac{y}{x} \\times 100 = P\n",
    "$$\n",
    "\n",
    "Où $y$ correspond au nombre d'entités correctement labellisées en tant que PER ou ORG, et $x$ au nombre d'enregistrements.\n",
    "\n",
    "L'accuracy nous indique le pourcentage de bonnes prédictions."
   ]
  },
  {
   "cell_type": "code",
   "execution_count": 5,
   "id": "900b8f6f-f5f9-483c-b159-adc443afd16e",
   "metadata": {},
   "outputs": [],
   "source": [
    "def how_many_entries(transcription):\n",
    "    '''count how many entries are there in a list'''\n",
    "    return len(transcription)\n",
    "\n",
    "def count_per_org(processed_transcriptions):\n",
    "    '''return how many first tokens for each entry are PER or ORG'''\n",
    "    count_per_org = 0\n",
    "    for enregistrement in processed_transcriptions:\n",
    "        ent_list = []\n",
    "        if enregistrement.ents:\n",
    "            for ent in enregistrement.ents:\n",
    "                ent_list.append(ent.label_)\n",
    "            if ent_list[0] == 'PER' or ent_list[0] == 'ORG':\n",
    "                count_per_org += 1\n",
    "            \n",
    "    return count_per_org\n",
    "\n",
    "def compute_accuracy(correct_entities, nb_entries):\n",
    "    '''compute accuracy'''\n",
    "    return correct_entities / nb_entries * 100"
   ]
  },
  {
   "cell_type": "markdown",
   "id": "a605a0ac-09cd-4489-9701-db1c3c56df79",
   "metadata": {},
   "source": [
    "## CER 0%"
   ]
  },
  {
   "cell_type": "markdown",
   "id": "9c972239-f172-40b7-aebb-16d408ab00d9",
   "metadata": {},
   "source": [
    "On traite le fichier source en le parsant, en récupérant les enregistrements, et en séparant les mots agglutinés."
   ]
  },
  {
   "cell_type": "code",
   "execution_count": 6,
   "id": "a21acd34-d2c9-40af-a8ca-fcdfd162c474",
   "metadata": {},
   "outputs": [],
   "source": [
    "source_cer_0 = \"../../corpus_test/lectaurep/ner_test_first_token/img_1/pagexml/cer_0/DAFANCH96_023MIC07640_L-1.xml\"\n",
    "content_cer_0 = open_and_parse(source_cer_0)\n",
    "sample_cer_0 = get_transcription_list(content_cer_0)\n",
    "sample_splitted_cer_0 = [split_word_on_caps(entry) for entry in sample_cer_0]"
   ]
  },
  {
   "cell_type": "code",
   "execution_count": 7,
   "id": "641eda39-a5c8-44c9-9496-06130ded1e0d",
   "metadata": {
    "scrolled": true,
    "tags": []
   },
   "outputs": [
    {
     "data": {
      "text/plain": [
       "[\"Beaurepaire (par henri Frédéric) et Marie Celine X XX safemme, demeurant à Paris, passage Tivoli 18, à Etienne Arthur Decan et Louise Félicienne Grante, sa femme, demeurant à Paris, passage Lathuile 21, d'unfonds deboucherie à Paris passage Tivoli 18, moyennant 24000+\",\n",
       " \"Institut agricole de Giel (pour laformation d'un institut agricole sous le nom de) dont le siège social est établi à Giel (Eure), pour développer l'étude de l'agriculture dans les classes pauvres.\",\n",
       " 'Lavignolle (rectificative par herman) etréquisition de certificat depropriété.',\n",
       " 'Imbeaux (depièces constatantles publications de contratdemariage de M Imbeaux avec Melle Livet.',\n",
       " \"Reynoso (par Alvaro Francisco Carlos) demeurant à Paris rue de Chateaudun 40 à (en blanc) à l'effetdeprendre un brevet d'invention dansla République Argentine pourla conservation desviandes.\",\n",
       " 'Cayre (par Marie Françoise honorine X XX, épouse de Pierre Louis) demeurant à Paris, rue du Havre, n°11 à Valentin Martin, demeurant à Paris avenuede Clichy 48',\n",
       " \"Lavignolle (par Herman) et Edmée Caroline Marie Moulin, safemme, demeurant à Bescar (Basses Pyrénées) à en blanc, à l'effet detoucher\",\n",
       " \"Lavignolle (parladite dame épouse) à en blanc, à l'effetd accepter enremploi d'une créance de 15000+ unerente sur l'Etat\",\n",
       " 'Lavignolle (parles dits Sieuretdame)',\n",
       " \"Lavignolle (parles mêmes) à l'effet detoucher une Créance X XX, à (enblanc)\",\n",
       " \"Lavignolle (par Mme) sus nommée, à l'effetd'accepter enremploi unerentesur l'Etat\",\n",
       " \"Tollin (par Marie Philippe Adolphe) agent de change à Paris, rue Halevy. 4, à Georges Auguste Corneille Favrot, demeuranta Paris, rue St Lazare, 82, à leffet d'accepter de M Lavignolle 15000+ pour être employés en rente 5%\",\n",
       " \"Lavignolle (parles d. Sr &amp; dame) à M Favrot sus nommé à l'effet de faire immatriculer des valeurs\",\n",
       " 'Lavignolle (rectificative des pre,oms de ma V. dame)',\n",
       " 'Lavignolle (parles mêmes) à Antoine Napoléon Prosper Albaret, demeurant à Paris rue St Lazare 82. X XX boucher',\n",
       " 'Gay (par Marguerite Victoire Lebon veuve de Jean Louis) demeurant à Batignolles, rue Jouffroy 16, a Jean Pierre Duchesne, demeurant à Paris rue X XX, n°7 de 35500+',\n",
       " 'Marquès (par Antonio Maria) demeurant à Paris, boulevart haussmann, n°180 à Emile Malmon, demeurant à Paris, faubourg Poissonnière, n°30 pour constituer une Société pourlatraction parlavapeur des tramways',\n",
       " \"Philippe (par Louis) demeurant à Paris Quai Voltaire, 33, (en blanc) à l'effet de le représenter au contratdemariage &amp; a la célébration civile &amp; religieuse du mariage de Melle Chavannet avec M Bertaux\",\n",
       " \"Hucher (par Marie Rose Delafosse) epouse de Adolphe Edmond) avec qui elle demeure à Paris, rue de la X XX n°36 (en blanc) à l'effet deratifier un contrat devente\",\n",
       " \"Beauboeuf (par Adelaïde Landeaux veuve de René) demeurant à Paris, rue des Batignolles, 39, à Valentin Martin, demeurant à Paris, avenue de Clichy, 48, à l'effet degérer &amp; administrer\"]"
      ]
     },
     "execution_count": 7,
     "metadata": {},
     "output_type": "execute_result"
    }
   ],
   "source": [
    "sample_splitted_cer_0"
   ]
  },
  {
   "cell_type": "markdown",
   "id": "42e97cfd-ba06-4cfb-a42f-c86bde68bf0f",
   "metadata": {},
   "source": [
    "Chaque enregistrement passe par la chaîne de traitement de TAL spaCy."
   ]
  },
  {
   "cell_type": "code",
   "execution_count": 8,
   "id": "8531523e-9651-4083-9c13-cf0e1ff255a1",
   "metadata": {},
   "outputs": [],
   "source": [
    "sample_processed_cer_0 = [nlp_pipeline_fr(str(enregistrement)) for enregistrement in sample_splitted_cer_0]"
   ]
  },
  {
   "cell_type": "code",
   "execution_count": 9,
   "id": "fc0f2b14-3ce0-42a2-98d2-a16fac4dafbc",
   "metadata": {
    "scrolled": true,
    "tags": []
   },
   "outputs": [
    {
     "name": "stdout",
     "output_type": "stream",
     "text": [
      "Beaurepaire (par henri Frédéric) et Marie Celine X XX safemme, demeurant à Paris, passage Tivoli 18, à Etienne Arthur Decan et Louise Félicienne Grante, sa femme, demeurant à Paris, passage Lathuile 21, d'unfonds deboucherie à Paris passage Tivoli 18, moyennant 24000+\n",
      "\n",
      "\n",
      "Beaurepaire PER\n",
      "Frédéric PER\n",
      "Marie Celine X XX safemme PER\n",
      "Paris LOC\n",
      "Tivoli 18 LOC\n",
      "Etienne Arthur Decan PER\n",
      "Louise Félicienne Grante PER\n",
      "Paris LOC\n",
      "Lathuile 21 LOC\n",
      "Paris LOC\n",
      "Tivoli 18 LOC\n",
      "_________ \n",
      "\n",
      "Institut agricole de Giel (pour laformation d'un institut agricole sous le nom de) dont le siège social est établi à Giel (Eure), pour développer l'étude de l'agriculture dans les classes pauvres.\n",
      "\n",
      "\n",
      "Institut agricole de Giel ORG\n",
      "Giel LOC\n",
      "Eure LOC\n",
      "_________ \n",
      "\n",
      "Lavignolle (rectificative par herman) etréquisition de certificat depropriété.\n",
      "\n",
      "\n",
      "Lavignolle LOC\n",
      "_________ \n",
      "\n",
      "Imbeaux (depièces constatantles publications de contratdemariage de M Imbeaux avec Melle Livet.\n",
      "\n",
      "\n",
      "Imbeaux PER\n",
      "M Imbeaux PER\n",
      "Melle Livet PER\n",
      "_________ \n",
      "\n",
      "Reynoso (par Alvaro Francisco Carlos) demeurant à Paris rue de Chateaudun 40 à (en blanc) à l'effetdeprendre un brevet d'invention dansla République Argentine pourla conservation desviandes.\n",
      "\n",
      "\n",
      "Reynoso PER\n",
      "Alvaro Francisco Carlos PER\n",
      "Paris LOC\n",
      "Chateaudun LOC\n",
      "République Argentine LOC\n",
      "_________ \n",
      "\n",
      "Cayre (par Marie Françoise honorine X XX, épouse de Pierre Louis) demeurant à Paris, rue du Havre, n°11 à Valentin Martin, demeurant à Paris avenuede Clichy 48\n",
      "\n",
      "\n",
      "Cayre PER\n",
      "Marie Françoise PER\n",
      "X XX ORG\n",
      "Pierre Louis PER\n",
      "Paris LOC\n",
      "rue du Havre LOC\n",
      "Valentin Martin PER\n",
      "Paris LOC\n",
      "Clichy 48 LOC\n",
      "_________ \n",
      "\n",
      "Lavignolle (par Herman) et Edmée Caroline Marie Moulin, safemme, demeurant à Bescar (Basses Pyrénées) à en blanc, à l'effet detoucher\n",
      "\n",
      "\n",
      "Lavignolle LOC\n",
      "Herman PER\n",
      "Edmée Caroline Marie Moulin PER\n",
      "Bescar LOC\n",
      "Basses Pyrénées LOC\n",
      "_________ \n",
      "\n",
      "Lavignolle (parladite dame épouse) à en blanc, à l'effetd accepter enremploi d'une créance de 15000+ unerente sur l'Etat\n",
      "\n",
      "\n",
      "Lavignolle LOC\n",
      "Etat LOC\n",
      "_________ \n",
      "\n",
      "Lavignolle (parles dits Sieuretdame)\n",
      "\n",
      "\n",
      "Lavignolle LOC\n",
      "Sieuretdame PER\n",
      "_________ \n",
      "\n",
      "Lavignolle (parles mêmes) à l'effet detoucher une Créance X XX, à (enblanc)\n",
      "\n",
      "\n",
      "Lavignolle LOC\n",
      "Créance X XX MISC\n",
      "_________ \n",
      "\n",
      "Lavignolle (par Mme) sus nommée, à l'effetd'accepter enremploi unerentesur l'Etat\n",
      "\n",
      "\n",
      "Lavignolle LOC\n",
      "Mme PER\n",
      "Etat LOC\n",
      "_________ \n",
      "\n",
      "Tollin (par Marie Philippe Adolphe) agent de change à Paris, rue Halevy. 4, à Georges Auguste Corneille Favrot, demeuranta Paris, rue St Lazare, 82, à leffet d'accepter de M Lavignolle 15000+ pour être employés en rente 5%\n",
      "\n",
      "\n",
      "Tollin LOC\n",
      "Marie Philippe Adolphe PER\n",
      "Paris LOC\n",
      "rue Halevy LOC\n",
      "Georges Auguste Corneille Favrot PER\n",
      "Paris LOC\n",
      "rue St Lazare LOC\n",
      "M Lavignolle PER\n",
      "_________ \n",
      "\n",
      "Lavignolle (parles d. Sr &amp; dame) à M Favrot sus nommé à l'effet de faire immatriculer des valeurs\n",
      "\n",
      "\n",
      "Lavignolle LOC\n",
      "Sr &amp MISC\n",
      "M Favrot PER\n",
      "_________ \n",
      "\n",
      "Lavignolle (rectificative des pre,oms de ma V. dame)\n",
      "\n",
      "\n",
      "Lavignolle LOC\n",
      "ma V. dame PER\n",
      "_________ \n",
      "\n",
      "Lavignolle (parles mêmes) à Antoine Napoléon Prosper Albaret, demeurant à Paris rue St Lazare 82. X XX boucher\n",
      "\n",
      "\n",
      "Lavignolle LOC\n",
      "Antoine Napoléon Prosper Albaret PER\n",
      "Paris LOC\n",
      "St Lazare 82 LOC\n",
      "X XX MISC\n",
      "_________ \n",
      "\n",
      "Gay (par Marguerite Victoire Lebon veuve de Jean Louis) demeurant à Batignolles, rue Jouffroy 16, a Jean Pierre Duchesne, demeurant à Paris rue X XX, n°7 de 35500+\n",
      "\n",
      "\n",
      "Marguerite Victoire Lebon PER\n",
      "Jean Louis PER\n",
      "Batignolles LOC\n",
      "rue Jouffroy LOC\n",
      "Jean Pierre Duchesne PER\n",
      "Paris LOC\n",
      "X XX ORG\n",
      "_________ \n",
      "\n",
      "Marquès (par Antonio Maria) demeurant à Paris, boulevart haussmann, n°180 à Emile Malmon, demeurant à Paris, faubourg Poissonnière, n°30 pour constituer une Société pourlatraction parlavapeur des tramways\n",
      "\n",
      "\n",
      "Marquès PER\n",
      "Antonio Maria PER\n",
      "Paris LOC\n",
      "Emile Malmon PER\n",
      "Paris LOC\n",
      "faubourg Poissonnière LOC\n",
      "Société pourlatraction parlavapeur ORG\n",
      "_________ \n",
      "\n",
      "Philippe (par Louis) demeurant à Paris Quai Voltaire, 33, (en blanc) à l'effet de le représenter au contratdemariage &amp; a la célébration civile &amp; religieuse du mariage de Melle Chavannet avec M Bertaux\n",
      "\n",
      "\n",
      "Philippe PER\n",
      "Louis PER\n",
      "Paris LOC\n",
      "Melle Chavannet PER\n",
      "M Bertaux PER\n",
      "_________ \n",
      "\n",
      "Hucher (par Marie Rose Delafosse) epouse de Adolphe Edmond) avec qui elle demeure à Paris, rue de la X XX n°36 (en blanc) à l'effet deratifier un contrat devente\n",
      "\n",
      "\n",
      "Hucher LOC\n",
      "Marie Rose Delafosse PER\n",
      "Adolphe Edmond PER\n",
      "Paris LOC\n",
      "X XX MISC\n",
      "_________ \n",
      "\n",
      "Beauboeuf (par Adelaïde Landeaux veuve de René) demeurant à Paris, rue des Batignolles, 39, à Valentin Martin, demeurant à Paris, avenue de Clichy, 48, à l'effet degérer &amp; administrer\n",
      "\n",
      "\n",
      "Beauboeuf MISC\n",
      "Adelaïde Landeaux PER\n",
      "René PER\n",
      "Paris LOC\n",
      "rue des Batignolles LOC\n",
      "Valentin Martin PER\n",
      "Paris LOC\n",
      "Clichy LOC\n",
      "_________ \n",
      "\n"
     ]
    }
   ],
   "source": [
    "show_entities(sample_processed_cer_0)"
   ]
  },
  {
   "cell_type": "markdown",
   "id": "03fe8368-071e-4d6a-b169-45d35016776e",
   "metadata": {},
   "source": [
    "On stocke le nombre d'entités extraites."
   ]
  },
  {
   "cell_type": "code",
   "execution_count": 10,
   "id": "04e701a7-1bb0-4124-8849-8c6c9c5c1fcf",
   "metadata": {},
   "outputs": [
    {
     "name": "stdout",
     "output_type": "stream",
     "text": [
      "Prédiction NER : 96 entités nommées\n"
     ]
    }
   ],
   "source": [
    "entity_count_cer_0 = show_ner_prediction_nb(sample_processed_cer_0)"
   ]
  },
  {
   "cell_type": "markdown",
   "id": "a28fb179-6906-4ed2-963a-d07a75bf43fd",
   "metadata": {},
   "source": [
    "On stocke les mesures relatives à notre expérience : \n",
    "\n",
    "* le nombre d'enregistrements présents sur la page\n",
    "* le nombre de premières entités étant PER ou ORG\n",
    "* l'accuracy"
   ]
  },
  {
   "cell_type": "code",
   "execution_count": 11,
   "id": "dd91a9d2-2e30-49a5-abd7-ac949e335b09",
   "metadata": {},
   "outputs": [],
   "source": [
    "nb_entries_cer_0 = how_many_entries(sample_cer_0)\n",
    "nb_per_org_cer_0 = count_per_org(sample_processed_cer_0)\n",
    "accuracy_cer_0 = compute_accuracy(nb_per_org_cer_0, nb_entries_cer_0)"
   ]
  },
  {
   "cell_type": "code",
   "execution_count": 12,
   "id": "15170735-da41-4c19-99b8-4426e1267887",
   "metadata": {},
   "outputs": [
    {
     "name": "stdout",
     "output_type": "stream",
     "text": [
      "Nombre d'enregistrements présents sur la page : 20 \t Nombre de premières entités étant PER ou ORG : 8\n",
      "Accuracy : 40.0\n"
     ]
    }
   ],
   "source": [
    "print(f'Nombre d\\'enregistrements présents sur la page : {nb_entries_cer_0} \\t Nombre de premières entités étant PER ou ORG : {nb_per_org_cer_0}')\n",
    "\n",
    "print(f'Accuracy : {accuracy_cer_0}')"
   ]
  },
  {
   "cell_type": "markdown",
   "id": "5199f61f-7c75-4e9c-ba4a-493f3863030b",
   "metadata": {},
   "source": [
    "## CER 8%"
   ]
  },
  {
   "cell_type": "code",
   "execution_count": 13,
   "id": "c3f5bf88-a0b1-4646-9934-407285d0e088",
   "metadata": {},
   "outputs": [],
   "source": [
    "source_cer_8 = \"../../corpus_test/lectaurep/ner_test_first_token/img_1/pagexml/cer_8/DAFANCH96_023MIC07640_L-1.xml\"\n",
    "content_cer_8 = open_and_parse(source_cer_8)\n",
    "sample_cer_8 = get_transcription_list(content_cer_8)\n",
    "sample_splitted_cer_8 = [split_word_on_caps(entry) for entry in sample_cer_8]"
   ]
  },
  {
   "cell_type": "code",
   "execution_count": 14,
   "id": "615894c0-02f2-44c1-859c-97ab9fb5b5e0",
   "metadata": {
    "scrolled": true,
    "tags": []
   },
   "outputs": [
    {
     "data": {
      "text/plain": [
       "[\"Beaurepaire (parhenri Frédéric) et Marie Celina Hutin safemme, demeurantà Paris, passage Tivoli 18, à Etienne Arthur Decan et Louise Félicienne Grante, safemme, demeurant à Paris, passage Lathuile 21, d'unfonds deboucherie à Paris passage Teivoli 18, moyennant 24000+\",\n",
       " \"Institut agricole de Giel (pour laformation d'un institut agricole sous le nom de) dont le siège social est établi à Giee (Eure), pour développer l'étude de l'agrieulture dans les classes pauvres.\",\n",
       " 'Lavignolle (rectificative parherman) etrequistion derertificat depropriété',\n",
       " 'Imibeaux (depièces constatantles publications de contrat demariage de M Imbeaux avecc Melle Livet',\n",
       " \"Reynoso (par Alvaro Francisco Carlos) demeurant à Paris rue de Chateaudun 40 à (en blanc) à l'effetdeprendreun brevet d'inenion dansla République Argentine pourla conservation des Viandes.\",\n",
       " 'Cayre (par Marie Françoise honone Teninse, épouse de Pierre Louis) demeurant à Paris, rue du Havre, n°11 à Valantin Martin, demeurant à Paris avenuede Clichy 48',\n",
       " \"Lavignolle (par Herman) et Edmée Caroline Marie Moulin, safemme, demeurantà Bescar (Basses Pyrénées) à enblanc, à l'effetdetoucher\",\n",
       " \"Lavignolle (parladite dame épouse) à en blanc, à l'effetdaccepter enremptoi d'une créance de 15000+ unerente sur l'Etat\",\n",
       " 'Lavignolle (parles dits Sieuretdame)',\n",
       " \"Lavignolle (parles mêmes) à l'effet detoucher une Créance 80, à (enblanc)\",\n",
       " \"Lavignolle (par Mme) Sus nommée, à l'effetd'accepter enremploi unerentesur l'Etat\",\n",
       " \"Tollin (par Marie Philippe Adolphe) agent de Chomge à Paris, rue Malevy. 4, à Georges Auguste Coreille Favrot, demeuranta Paris, rue St Lazare, 32, à l'effetd'accepter de M Lavignolle 15000+ pour être employés enrente 5%\",\n",
       " \"Lavignolle (parles d. Sr &amp; dame) à M Favrot sus nommé à l'effet de faire immatriculer des valeurs\",\n",
       " 'Lavignolle (rectificative des pronoms de ma F. dame)',\n",
       " 'Lavignolle (parles mêmes) à Antoine Napoleon Prosper Albaret, demeurant à Paris, rue St Luzare 82. - toucher',\n",
       " 'Gay (par Marguerite Victoire Lebon veuve de Jean Louis) demeurantàBatignolles, rue Jouffroy 16, a Jean Pierre Duchemne, demeurantà Paris, rue Senillon, n°7 de 35500+',\n",
       " 'Margues (par Antonio Maria) demeurant à Paris, boulevart haussmonn, n°180 à Emile Malmon, demeurantà Paris, faubourg Poissonnière, n°30 pour constitur unesociété pourlatraction parlavapeur des tramways',\n",
       " \"Philippe (par Louis) demeurant à Paris Quai Voltaire, 33, (enblanc) à l'effetde le représenter au Contratdemariage &amp; a la. celebration Civile &amp; religieuse du mariage de Melle Chavannet avec M Bertaux\",\n",
       " \"Hucher (par Marie Rose Delafonse) epouse de Adolphe Edmond) avec qui elle demeure à Paris, rue dela Camdame n°36 en blanc, à l'effet deretifier un contrat devente\",\n",
       " \"Beaubouf (par Adelaïde Landeaux veuve de René) demeurantà Paris, rue des Batignolles, 32, à Valentin Martin, demeurant à Paris, avenue de Clichy, 48, à l'effet degérer &amp; dmenister\"]"
      ]
     },
     "execution_count": 14,
     "metadata": {},
     "output_type": "execute_result"
    }
   ],
   "source": [
    "sample_splitted_cer_8"
   ]
  },
  {
   "cell_type": "code",
   "execution_count": 15,
   "id": "f198a18c-2f8e-44f6-85ee-8b8a8ca331d5",
   "metadata": {},
   "outputs": [],
   "source": [
    "sample_processed_cer_8 = [nlp_pipeline_fr(str(enregistrement)) for enregistrement in sample_splitted_cer_8]"
   ]
  },
  {
   "cell_type": "code",
   "execution_count": 16,
   "id": "ed4c482c-9e5f-4919-9eb6-82c83e309c30",
   "metadata": {
    "scrolled": true,
    "tags": []
   },
   "outputs": [
    {
     "name": "stdout",
     "output_type": "stream",
     "text": [
      "Beaurepaire (parhenri Frédéric) et Marie Celina Hutin safemme, demeurantà Paris, passage Tivoli 18, à Etienne Arthur Decan et Louise Félicienne Grante, safemme, demeurant à Paris, passage Lathuile 21, d'unfonds deboucherie à Paris passage Teivoli 18, moyennant 24000+\n",
      "\n",
      "\n",
      "Beaurepaire PER\n",
      "parhenri Frédéric MISC\n",
      "Marie Celina Hutin PER\n",
      "Paris LOC\n",
      "Tivoli 18 LOC\n",
      "Etienne Arthur Decan PER\n",
      "Louise Félicienne Grante PER\n",
      "Paris LOC\n",
      "Lathuile 21 LOC\n",
      "Paris LOC\n",
      "_________ \n",
      "\n",
      "Institut agricole de Giel (pour laformation d'un institut agricole sous le nom de) dont le siège social est établi à Giee (Eure), pour développer l'étude de l'agrieulture dans les classes pauvres.\n",
      "\n",
      "\n",
      "Institut agricole de Giel ORG\n",
      "Giee LOC\n",
      "Eure LOC\n",
      "_________ \n",
      "\n",
      "Lavignolle (rectificative parherman) etrequistion derertificat depropriété\n",
      "\n",
      "\n",
      "Lavignolle LOC\n",
      "_________ \n",
      "\n",
      "Imibeaux (depièces constatantles publications de contrat demariage de M Imbeaux avecc Melle Livet\n",
      "\n",
      "\n",
      "Imibeaux LOC\n",
      "M Imbeaux PER\n",
      "Melle Livet PER\n",
      "_________ \n",
      "\n",
      "Reynoso (par Alvaro Francisco Carlos) demeurant à Paris rue de Chateaudun 40 à (en blanc) à l'effetdeprendreun brevet d'inenion dansla République Argentine pourla conservation des Viandes.\n",
      "\n",
      "\n",
      "Reynoso PER\n",
      "Alvaro Francisco Carlos PER\n",
      "Paris LOC\n",
      "Chateaudun LOC\n",
      "République Argentine LOC\n",
      "Viandes LOC\n",
      "_________ \n",
      "\n",
      "Cayre (par Marie Françoise honone Teninse, épouse de Pierre Louis) demeurant à Paris, rue du Havre, n°11 à Valantin Martin, demeurant à Paris avenuede Clichy 48\n",
      "\n",
      "\n",
      "Cayre PER\n",
      "Marie Françoise PER\n",
      "Teninse PER\n",
      "Pierre Louis PER\n",
      "Paris LOC\n",
      "rue du Havre LOC\n",
      "Valantin Martin PER\n",
      "Paris LOC\n",
      "Clichy 48 LOC\n",
      "_________ \n",
      "\n",
      "Lavignolle (par Herman) et Edmée Caroline Marie Moulin, safemme, demeurantà Bescar (Basses Pyrénées) à enblanc, à l'effetdetoucher\n",
      "\n",
      "\n",
      "Lavignolle LOC\n",
      "Herman PER\n",
      "Edmée LOC\n",
      "Caroline Marie Moulin PER\n",
      "Bescar LOC\n",
      "Basses Pyrénées LOC\n",
      "_________ \n",
      "\n",
      "Lavignolle (parladite dame épouse) à en blanc, à l'effetdaccepter enremptoi d'une créance de 15000+ unerente sur l'Etat\n",
      "\n",
      "\n",
      "Lavignolle LOC\n",
      "Etat LOC\n",
      "_________ \n",
      "\n",
      "Lavignolle (parles dits Sieuretdame)\n",
      "\n",
      "\n",
      "Lavignolle LOC\n",
      "Sieuretdame PER\n",
      "_________ \n",
      "\n",
      "Lavignolle (parles mêmes) à l'effet detoucher une Créance 80, à (enblanc)\n",
      "\n",
      "\n",
      "Lavignolle LOC\n",
      "Créance PER\n",
      "_________ \n",
      "\n",
      "Lavignolle (par Mme) Sus nommée, à l'effetd'accepter enremploi unerentesur l'Etat\n",
      "\n",
      "\n",
      "Lavignolle LOC\n",
      "Mme PER\n",
      "Etat LOC\n",
      "_________ \n",
      "\n",
      "Tollin (par Marie Philippe Adolphe) agent de Chomge à Paris, rue Malevy. 4, à Georges Auguste Coreille Favrot, demeuranta Paris, rue St Lazare, 32, à l'effetd'accepter de M Lavignolle 15000+ pour être employés enrente 5%\n",
      "\n",
      "\n",
      "Tollin LOC\n",
      "Marie Philippe Adolphe PER\n",
      "Paris LOC\n",
      "rue Malevy LOC\n",
      "Georges Auguste Coreille Favrot PER\n",
      "Paris LOC\n",
      "rue St Lazare LOC\n",
      "M Lavignolle PER\n",
      "_________ \n",
      "\n",
      "Lavignolle (parles d. Sr &amp; dame) à M Favrot sus nommé à l'effet de faire immatriculer des valeurs\n",
      "\n",
      "\n",
      "Lavignolle LOC\n",
      "Sr &amp MISC\n",
      "M Favrot PER\n",
      "_________ \n",
      "\n",
      "Lavignolle (rectificative des pronoms de ma F. dame)\n",
      "\n",
      "\n",
      "Lavignolle LOC\n",
      "ma F. dame PER\n",
      "_________ \n",
      "\n",
      "Lavignolle (parles mêmes) à Antoine Napoleon Prosper Albaret, demeurant à Paris, rue St Luzare 82. - toucher\n",
      "\n",
      "\n",
      "Lavignolle LOC\n",
      "Antoine Napoleon Prosper Albaret PER\n",
      "Paris LOC\n",
      "rue St Luzare 82 LOC\n",
      "_________ \n",
      "\n",
      "Gay (par Marguerite Victoire Lebon veuve de Jean Louis) demeurantàBatignolles, rue Jouffroy 16, a Jean Pierre Duchemne, demeurantà Paris, rue Senillon, n°7 de 35500+\n",
      "\n",
      "\n",
      "Marguerite Victoire Lebon PER\n",
      "Jean Louis PER\n",
      "rue Jouffroy LOC\n",
      "Jean Pierre Duchemne PER\n",
      "Paris LOC\n",
      "rue Senillon LOC\n",
      "_________ \n",
      "\n",
      "Margues (par Antonio Maria) demeurant à Paris, boulevart haussmonn, n°180 à Emile Malmon, demeurantà Paris, faubourg Poissonnière, n°30 pour constitur unesociété pourlatraction parlavapeur des tramways\n",
      "\n",
      "\n",
      "Margues LOC\n",
      "Antonio Maria PER\n",
      "Paris LOC\n",
      "Emile Malmon PER\n",
      "Paris LOC\n",
      "Poissonnière MISC\n",
      "_________ \n",
      "\n",
      "Philippe (par Louis) demeurant à Paris Quai Voltaire, 33, (enblanc) à l'effetde le représenter au Contratdemariage &amp; a la. celebration Civile &amp; religieuse du mariage de Melle Chavannet avec M Bertaux\n",
      "\n",
      "\n",
      "Philippe PER\n",
      "Louis PER\n",
      "Paris LOC\n",
      "Contratdemariage &amp MISC\n",
      "Civile &amp MISC\n",
      "Melle Chavannet PER\n",
      "M Bertaux PER\n",
      "_________ \n",
      "\n",
      "Hucher (par Marie Rose Delafonse) epouse de Adolphe Edmond) avec qui elle demeure à Paris, rue dela Camdame n°36 en blanc, à l'effet deretifier un contrat devente\n",
      "\n",
      "\n",
      "Hucher LOC\n",
      "Marie Rose Delafonse PER\n",
      "Adolphe Edmond PER\n",
      "Paris LOC\n",
      "rue dela LOC\n",
      "_________ \n",
      "\n",
      "Beaubouf (par Adelaïde Landeaux veuve de René) demeurantà Paris, rue des Batignolles, 32, à Valentin Martin, demeurant à Paris, avenue de Clichy, 48, à l'effet degérer &amp; dmenister\n",
      "\n",
      "\n",
      "Beaubouf PER\n",
      "Adelaïde PER\n",
      "Landeaux PER\n",
      "René MISC\n",
      "Paris LOC\n",
      "rue des Batignolles LOC\n",
      "Valentin Martin PER\n",
      "Paris LOC\n",
      "Clichy LOC\n",
      "_________ \n",
      "\n"
     ]
    }
   ],
   "source": [
    "show_entities(sample_processed_cer_8)"
   ]
  },
  {
   "cell_type": "code",
   "execution_count": 17,
   "id": "0041c25f-d4a3-48c8-aacd-2936b9899270",
   "metadata": {},
   "outputs": [
    {
     "name": "stdout",
     "output_type": "stream",
     "text": [
      "Prédiction NER : 97 entités nommées\n"
     ]
    }
   ],
   "source": [
    "entity_count_cer_8 = show_ner_prediction_nb(sample_processed_cer_8)"
   ]
  },
  {
   "cell_type": "code",
   "execution_count": 18,
   "id": "5f2cb215-625a-4211-b6c3-07d29e6c8160",
   "metadata": {},
   "outputs": [],
   "source": [
    "nb_entries_cer_8 = how_many_entries(sample_cer_8)\n",
    "nb_per_org_cer_8 = count_per_org(sample_processed_cer_8)\n",
    "accuracy_cer_8 = compute_accuracy(nb_per_org_cer_8, nb_entries_cer_8)"
   ]
  },
  {
   "cell_type": "code",
   "execution_count": 19,
   "id": "eb28667a-7bb7-42e1-9863-16830b0c104f",
   "metadata": {},
   "outputs": [
    {
     "name": "stdout",
     "output_type": "stream",
     "text": [
      "Nombre d'enregistrements présents sur la page : 20 \t Nombre de premières entités étant PER ou ORG : 7\n",
      "Accuracy : 35.0\n"
     ]
    }
   ],
   "source": [
    "print(f'Nombre d\\'enregistrements présents sur la page : {nb_entries_cer_8} \\t Nombre de premières entités étant PER ou ORG : {nb_per_org_cer_8}')\n",
    "\n",
    "print(f'Accuracy : {accuracy_cer_8}')"
   ]
  },
  {
   "cell_type": "markdown",
   "id": "7593528e-368b-4046-a920-850e5ad7fb00",
   "metadata": {},
   "source": [
    "## CER 18%"
   ]
  },
  {
   "cell_type": "code",
   "execution_count": 20,
   "id": "2895e8a7-861b-41b6-a61d-303860c2e5c1",
   "metadata": {},
   "outputs": [],
   "source": [
    "source_cer_18 = \"../../corpus_test/lectaurep/ner_test_first_token/img_1/pagexml/cer_18/DAFANCH96_023MIC07640_L-1.xml\"\n",
    "content_cer_18 = open_and_parse(source_cer_18)\n",
    "sample_cer_18 = get_transcription_list(content_cer_18)\n",
    "sample_splitted_cer_18 = [split_word_on_caps(entry) for entry in sample_cer_18]"
   ]
  },
  {
   "cell_type": "code",
   "execution_count": 21,
   "id": "48019601-50e9-4a20-985b-6d7f2972d8b7",
   "metadata": {
    "scrolled": true,
    "tags": []
   },
   "outputs": [
    {
     "data": {
      "text/plain": [
       "[\"Beaurepaire (par henre Frédéric) et Marie Celnatictn sa femme, demeurant à Paris, passage Tivoli 18, à Etienne Acthur Diean et Louise Félicienne Grante, sa femme, demeurant à Paris, passage Lathuile 21, d'in fonds de boucherie à Paris prassage Teivoli 18, moyennant Eyovot\",\n",
       " \"Insttut agricole de Giel (pour laformation d'un institut agucole sons le rom de) dont l siège social ett établi à Giee (Eure), pour développer l'étuide de l'agrieulture dans les classes pauvres.\",\n",
       " 'Lavignolle (rectificauve par herman) etrequintion derertificat de propriété',\n",
       " 'Imbeaux (deprèces constatant les publications de contrat de manage de M Imbeaux aveec M^ve Livet',\n",
       " \"Leynoso (par Alvrs Francisc Carlos) demeurant à Paris rue de Chateaudun 40 à (en blanc) à l'effet deprendre en brevet d'invenicon dans les Repulle que Argentine pour le conernation der Viandes.\",\n",
       " 'Cayre (par Marie Françoise hononne Temine, épouse de Pierre Louis) demeurant à Paris, rue de Havre, n° 11 a Velarti Martin, demeurantt à Paris avenue de Clichy 42',\n",
       " 'Lavignolle (par Herman) et Edmée Caroline Marie Moulin, safemme, demeurant à Bescar (Basses Pyrenée) à en blanc, à leffet de toucher',\n",
       " \"Lavignolle parla dite dame épouse) a en blanc, à leffet d'accepter enremplar d'une créance de 15 u0d^f marent sur l'Eter\",\n",
       " 'Lavignolle (par les dits sieur et danc)',\n",
       " 'Lavignolle (par les mênies) à leffet detoucher rue Tréance Ele, à (en blanc)',\n",
       " \"Lavignolle (par M^r) Sus nommée, à l'effet acceptes en remplor ue rente sur l'Etat\",\n",
       " \"Tollin (par Marie Phils pe Axolphe) agent de Chonge à Paris, rue Halery. 4, à Geuges Auguste Comeille Favrot, demeurant à Paris, rue S^t Lazare, 32, àleffet d'accepte de M Lavignille 15000 t pour ête employés e- rente 570\",\n",
       " 'Lavigrolle (parles d. 6s dan à M Vevrot ses nommé à lefeer de fanre mmmatnaule ees vaceurs',\n",
       " 'Lavignolle (rectgicative des prenoms ce m S^t dane)',\n",
       " \"Lavignolle (par lesmin Antoine Vapalen Prosjer Albarer, demeurant à Paris, rue S'Lazare 82 - sonche\",\n",
       " 'Gay par Marggueres Victorre boa Vn Le Jean Loui) demenante Batignoles, rue Joufpo, 10 a Jear Pienc Puchemne, demeurant à Paris, rue Senellos, n°7 de 35500.',\n",
       " 'Marques (par Antonie Maria) demeurant à Paris, boulevard hausmonn, n°180 à Emle Malmot, Lemeurant à Paris, Jaubaurg Pousounière, n° 50 pour ponsiilier une Société pour la traction pa lavopeur des tramvays',\n",
       " \"Philippe (par Louis) demeurant à Paris dime Voltaire, 33, (en blanc) à l'epfet de l represinte au ontrat aemariage s a le célébontion civre rrelegiense du mariage de M^e Chavanmet auc M Bertan\",\n",
       " 'Rucher (par Marie Dos Delafone) epouse de Adolphe Edmend) avec aur elle demeure à Paris re dela Camtene n° 36 en blanc, à leffet deralifier uu contrat de vente',\n",
       " 'Draulauf par Adelaide Landeux veue de Rene) Eememanne Paris, rue des Batranvlles, 32, à Valentin Martes, denenee à Paris avenue dt Clechy 48 à Cepfer degerr -actamete']"
      ]
     },
     "execution_count": 21,
     "metadata": {},
     "output_type": "execute_result"
    }
   ],
   "source": [
    "sample_splitted_cer_18"
   ]
  },
  {
   "cell_type": "code",
   "execution_count": 22,
   "id": "a76c780e-439f-491d-80d4-8752efc321e8",
   "metadata": {},
   "outputs": [],
   "source": [
    "sample_processed_cer_18 = [nlp_pipeline_fr(str(enregistrement)) for enregistrement in sample_splitted_cer_18]"
   ]
  },
  {
   "cell_type": "code",
   "execution_count": 23,
   "id": "4e93badf-b706-4cfd-aba6-0234d772f722",
   "metadata": {
    "scrolled": true,
    "tags": []
   },
   "outputs": [
    {
     "name": "stdout",
     "output_type": "stream",
     "text": [
      "Beaurepaire (par henre Frédéric) et Marie Celnatictn sa femme, demeurant à Paris, passage Tivoli 18, à Etienne Acthur Diean et Louise Félicienne Grante, sa femme, demeurant à Paris, passage Lathuile 21, d'in fonds de boucherie à Paris prassage Teivoli 18, moyennant Eyovot\n",
      "\n",
      "\n",
      "Beaurepaire PER\n",
      "Frédéric LOC\n",
      "Marie Celnatictn PER\n",
      "Paris LOC\n",
      "Tivoli 18 LOC\n",
      "Etienne Acthur Diean PER\n",
      "Louise Félicienne Grante PER\n",
      "Paris LOC\n",
      "Lathuile 21 LOC\n",
      "Paris LOC\n",
      "Teivoli 18 MISC\n",
      "Eyovot ORG\n",
      "_________ \n",
      "\n",
      "Insttut agricole de Giel (pour laformation d'un institut agucole sons le rom de) dont l siège social ett établi à Giee (Eure), pour développer l'étuide de l'agrieulture dans les classes pauvres.\n",
      "\n",
      "\n",
      "Insttut MISC\n",
      "Giel LOC\n",
      "Giee LOC\n",
      "Eure LOC\n",
      "_________ \n",
      "\n",
      "Lavignolle (rectificauve par herman) etrequintion derertificat de propriété\n",
      "\n",
      "\n",
      "Lavignolle LOC\n",
      "_________ \n",
      "\n",
      "Imbeaux (deprèces constatant les publications de contrat de manage de M Imbeaux aveec M^ve Livet\n",
      "\n",
      "\n",
      "Imbeaux PER\n",
      "M Imbeaux PER\n",
      "M^ve Livet PER\n",
      "_________ \n",
      "\n",
      "Leynoso (par Alvrs Francisc Carlos) demeurant à Paris rue de Chateaudun 40 à (en blanc) à l'effet deprendre en brevet d'invenicon dans les Repulle que Argentine pour le conernation der Viandes.\n",
      "\n",
      "\n",
      "Leynoso LOC\n",
      "Alvrs Francisc Carlos PER\n",
      "Paris LOC\n",
      "Chateaudun LOC\n",
      "Repulle LOC\n",
      "Argentine LOC\n",
      "_________ \n",
      "\n",
      "Cayre (par Marie Françoise hononne Temine, épouse de Pierre Louis) demeurant à Paris, rue de Havre, n° 11 a Velarti Martin, demeurantt à Paris avenue de Clichy 42\n",
      "\n",
      "\n",
      "Cayre PER\n",
      "Marie Françoise PER\n",
      "Temine PER\n",
      "Pierre Louis PER\n",
      "Paris LOC\n",
      "rue de Havre LOC\n",
      "Velarti Martin PER\n",
      "Paris LOC\n",
      "_________ \n",
      "\n",
      "Lavignolle (par Herman) et Edmée Caroline Marie Moulin, safemme, demeurant à Bescar (Basses Pyrenée) à en blanc, à leffet de toucher\n",
      "\n",
      "\n",
      "Lavignolle LOC\n",
      "Herman PER\n",
      "Edmée LOC\n",
      "Caroline Marie Moulin PER\n",
      "Bescar LOC\n",
      "Basses Pyrenée LOC\n",
      "_________ \n",
      "\n",
      "Lavignolle parla dite dame épouse) a en blanc, à leffet d'accepter enremplar d'une créance de 15 u0d^f marent sur l'Eter\n",
      "\n",
      "\n",
      "Lavignolle LOC\n",
      "Eter LOC\n",
      "_________ \n",
      "\n",
      "Lavignolle (par les dits sieur et danc)\n",
      "\n",
      "\n",
      "Lavignolle LOC\n",
      "_________ \n",
      "\n",
      "Lavignolle (par les mênies) à leffet detoucher rue Tréance Ele, à (en blanc)\n",
      "\n",
      "\n",
      "Lavignolle LOC\n",
      "_________ \n",
      "\n",
      "Lavignolle (par M^r) Sus nommée, à l'effet acceptes en remplor ue rente sur l'Etat\n",
      "\n",
      "\n",
      "Lavignolle LOC\n",
      "M^r ORG\n",
      "Etat LOC\n",
      "_________ \n",
      "\n",
      "Tollin (par Marie Phils pe Axolphe) agent de Chonge à Paris, rue Halery. 4, à Geuges Auguste Comeille Favrot, demeurant à Paris, rue S^t Lazare, 32, àleffet d'accepte de M Lavignille 15000 t pour ête employés e- rente 570\n",
      "\n",
      "\n",
      "Tollin LOC\n",
      "Marie Phils pe Axolphe PER\n",
      "Chonge MISC\n",
      "Paris LOC\n",
      "rue Halery LOC\n",
      "Geuges PER\n",
      "Auguste Comeille Favrot PER\n",
      "Paris LOC\n",
      "rue S^t Lazare LOC\n",
      "M Lavignille PER\n",
      "_________ \n",
      "\n",
      "Lavigrolle (parles d. 6s dan à M Vevrot ses nommé à lefeer de fanre mmmatnaule ees vaceurs\n",
      "\n",
      "\n",
      "Lavigrolle LOC\n",
      "Vevrot PER\n",
      "_________ \n",
      "\n",
      "Lavignolle (rectgicative des prenoms ce m S^t dane)\n",
      "\n",
      "\n",
      "Lavignolle LOC\n",
      "_________ \n",
      "\n",
      "Lavignolle (par lesmin Antoine Vapalen Prosjer Albarer, demeurant à Paris, rue S'Lazare 82 - sonche\n",
      "\n",
      "\n",
      "Lavignolle LOC\n",
      "Antoine Vapalen PER\n",
      "Paris LOC\n",
      "_________ \n",
      "\n",
      "Gay par Marggueres Victorre boa Vn Le Jean Loui) demenante Batignoles, rue Joufpo, 10 a Jear Pienc Puchemne, demeurant à Paris, rue Senellos, n°7 de 35500.\n",
      "\n",
      "\n",
      "Marggueres Victorre PER\n",
      "Jean Loui PER\n",
      "Batignoles LOC\n",
      "rue Joufpo LOC\n",
      "Jear Pienc Puchemne PER\n",
      "Paris LOC\n",
      "rue Senellos LOC\n",
      "_________ \n",
      "\n",
      "Marques (par Antonie Maria) demeurant à Paris, boulevard hausmonn, n°180 à Emle Malmot, Lemeurant à Paris, Jaubaurg Pousounière, n° 50 pour ponsiilier une Société pour la traction pa lavopeur des tramvays\n",
      "\n",
      "\n",
      "Antonie Maria PER\n",
      "Paris LOC\n",
      "Emle Malmot PER\n",
      "Lemeurant LOC\n",
      "Paris LOC\n",
      "Jaubaurg Pousounière PER\n",
      "Société ORG\n",
      "_________ \n",
      "\n",
      "Philippe (par Louis) demeurant à Paris dime Voltaire, 33, (en blanc) à l'epfet de l represinte au ontrat aemariage s a le célébontion civre rrelegiense du mariage de M^e Chavanmet auc M Bertan\n",
      "\n",
      "\n",
      "Philippe PER\n",
      "Louis PER\n",
      "Paris LOC\n",
      "Voltaire PER\n",
      "M^e Chavanmet auc PER\n",
      "M Bertan PER\n",
      "_________ \n",
      "\n",
      "Rucher (par Marie Dos Delafone) epouse de Adolphe Edmend) avec aur elle demeure à Paris re dela Camtene n° 36 en blanc, à leffet deralifier uu contrat de vente\n",
      "\n",
      "\n",
      "Rucher LOC\n",
      "Marie MISC\n",
      "Adolphe Edmend PER\n",
      "Paris LOC\n",
      "Camtene LOC\n",
      "_________ \n",
      "\n",
      "Draulauf par Adelaide Landeux veue de Rene) Eememanne Paris, rue des Batranvlles, 32, à Valentin Martes, denenee à Paris avenue dt Clechy 48 à Cepfer degerr -actamete\n",
      "\n",
      "\n",
      "Draulauf LOC\n",
      "Adelaide Landeux PER\n",
      "Rene PER\n",
      "Eememanne Paris LOC\n",
      "rue des Batranvlles LOC\n",
      "Valentin Martes PER\n",
      "Paris LOC\n",
      "Clechy 48 LOC\n",
      "Cepfer PER\n",
      "_________ \n",
      "\n"
     ]
    }
   ],
   "source": [
    "show_entities(sample_processed_cer_18)"
   ]
  },
  {
   "cell_type": "code",
   "execution_count": 24,
   "id": "66822ff5-7f07-41a8-849f-c92c2031e92f",
   "metadata": {},
   "outputs": [
    {
     "name": "stdout",
     "output_type": "stream",
     "text": [
      "Prédiction NER : 97 entités nommées\n"
     ]
    }
   ],
   "source": [
    "entity_count_cer_18 = show_ner_prediction_nb(sample_processed_cer_18)"
   ]
  },
  {
   "cell_type": "code",
   "execution_count": 25,
   "id": "d3151911-69df-42ae-94db-4e4b76cf9884",
   "metadata": {},
   "outputs": [],
   "source": [
    "nb_entries_cer_18 = how_many_entries(sample_cer_18)\n",
    "nb_per_org_cer_18 = count_per_org(sample_processed_cer_18)\n",
    "accuracy_cer_18 = compute_accuracy(nb_per_org_cer_18, nb_entries_cer_18)"
   ]
  },
  {
   "cell_type": "code",
   "execution_count": 26,
   "id": "d89a20e3-8d57-40f4-b927-f2a78e350918",
   "metadata": {},
   "outputs": [
    {
     "name": "stdout",
     "output_type": "stream",
     "text": [
      "Nombre d'enregistrements présents sur la page : 20 \t Nombre de premières entités étant PER ou ORG : 6\n",
      "Accuracy : 30.0\n"
     ]
    }
   ],
   "source": [
    "print(f'Nombre d\\'enregistrements présents sur la page : {nb_entries_cer_18} \\t Nombre de premières entités étant PER ou ORG : {nb_per_org_cer_18}')\n",
    "\n",
    "print(f'Accuracy : {accuracy_cer_18}')"
   ]
  },
  {
   "cell_type": "markdown",
   "id": "3522c411-ee53-4d5b-ae64-c60f09fef5d7",
   "metadata": {},
   "source": [
    "## CER 25%"
   ]
  },
  {
   "cell_type": "code",
   "execution_count": 27,
   "id": "292fb1fd-d60e-45fd-b17f-d5823f6c4007",
   "metadata": {},
   "outputs": [],
   "source": [
    "source_cer_25 = \"../../corpus_test/lectaurep/ner_test_first_token/img_1/pagexml/cer_25/DAFANCH96_023MIC07640_L-1.xml\"\n",
    "content_cer_25 = open_and_parse(source_cer_25)\n",
    "sample_cer_25 = get_transcription_list(content_cer_25)\n",
    "sample_splitted_cer_25 = [split_word_on_caps(entry) for entry in sample_cer_25]"
   ]
  },
  {
   "cell_type": "code",
   "execution_count": 28,
   "id": "1805fae6-c56c-42cb-b473-188652e8feea",
   "metadata": {
    "scrolled": true,
    "tags": []
   },
   "outputs": [
    {
     "data": {
      "text/plain": [
       "['Beaurepaire par henri Frederic et Marie Celna hictin du femme, demeurant à Paris Massage Tivoli 18, à Tlienne Alithur Dican et Louise Pelicienne Grante, sa femme, demeurant à Paris, passage Lathuile 21, dbn fonds Le boucherie à Paris passage Teivoli 18, moyennat Ayovot.',\n",
       " \"Inbtitut agricole de Giel pour la formation d'un. mnstitut annicole Vons le nom de dont le Siège socue. est etabli à Giel l'Eure, pour Lévelopper l'elude de l'agroenlture Laus les Classes hanvres.\",\n",
       " 'Luvignolle Crectifucative par herman etrequisition. de rertifieut de proeprieté.',\n",
       " 'Imibeaux de prieces constatant les publications de contrat Le mariage de M Imbeaux ave ^le Rivec.',\n",
       " \"Reynosi par Alvro Fremcisce Carlos, demeurant à Paris ruc de Chateau dun 40 à Cen blanc à l'effet de presdre un brevet d'unvenicon Lunr le Repube que Argestne pires le coneration des Viomdes.\",\n",
       " 'Tayre par Marie Freneoire hononme Tenrisse, épouse de Pierre Lons dememant à Paris, rue du Wavre, ne 11 à Valastne Mantric, dememranrt à Paris avenue de Clichy 48.',\n",
       " \"Luvignolle har herman et Tdmée Caroline Marie Manli sn femme, demeurant à Besear Basses Brence à enblenc, a l'effet de toucher.\",\n",
       " \"Lavignolle par la dite dane épouse à en blemc, à leffet deceptor inremplur d'Enne Créance de 15000 t meresite dur P Etar\",\n",
       " 'Lavignolle parr les dibs Sieur et dane',\n",
       " 'Luvignolle par les mrenees à leffet de Poucher ue Tréonce 8lo, à ler blanc',\n",
       " \"Lavignolle par M^re . Lus nommée. à l'effet d'accepter en remplos une rente sur Vrlat.\",\n",
       " \"Tollin Cpar Marie Phiippe Adolpte agens de Chomye à Ponris, rue Nalery. 4, à Georges Anguste Comeille Faviot, dememrt à Paris, rue S^t Layare, 82. à l'effet d'accepte de M Lavignolse 13000 t hour itre em poyes en rente d^rs0\",\n",
       " 'Lavigrolle par les d. M ap Irne à M^r Vavrot Sus nomme a lieffes de faire mmmatneuler des vaceurs.',\n",
       " 'Lavignolle rectisocasive des presoms de mr d^e dame',\n",
       " 'Enignolle par les mime .... Antoine Napoleon. Prosper Albaret, dememant à Paris rue S^ Luzere 82..... douche',\n",
       " 'Gayy ...... par Maregueri Victore Lebon Vemve Le Jean Laui Lemaminn d̀ Batignolles, ue Jouffroy 1.. a Jear Puvre Buchesne, Le meuant à Paris rue Venellos, n 7 de 35500+',\n",
       " 'Margues par Antonio Marid dememrent à Paris, Toutevard hanssmomn, N° 181 à Imile Malmon. Lemenraint ò Paris, Jauleanrg Ponsomiere, n°30 pour comtiteur nne Loccelé pour lataction par a vopeuir des Tramvayys.',\n",
       " \"Ohilippe Char Louris Lemeurant à Paris Chie Voltaire, 33 Corblanc à l'effet de Ce represinter au sntrat de mariage amp a lo celebration Civile relegieuse Au mariege de Mu^eh Choannet avc M. Bertann.\",\n",
       " 'Iucher Cpar Marie Rose Delafosse epouse de Acilpte Edt. mond avec qus elle Lemenre à Perrs, uue de la Camterne n°31. en blanc, à leffet de ralifear ux contrat de vinte',\n",
       " '1 ..... deaubauf har Adelai de Landeuux veuve Le Rese Lememanne Paris, rue des Batignolles, 32,. à Valestis Marte, Lem eme de Paris. avemme de Clchy. 438... a Cesfec ae gére. detnistte']"
      ]
     },
     "execution_count": 28,
     "metadata": {},
     "output_type": "execute_result"
    }
   ],
   "source": [
    "sample_splitted_cer_25"
   ]
  },
  {
   "cell_type": "code",
   "execution_count": 29,
   "id": "4f8c06f5-5af5-4842-ad0a-12068a954fe3",
   "metadata": {},
   "outputs": [],
   "source": [
    "sample_processed_cer_25 = [nlp_pipeline_fr(str(enregistrement)) for enregistrement in sample_splitted_cer_25]"
   ]
  },
  {
   "cell_type": "code",
   "execution_count": 30,
   "id": "9e554de0-4efc-417f-9958-c0863c866dbd",
   "metadata": {
    "scrolled": true,
    "tags": []
   },
   "outputs": [
    {
     "name": "stdout",
     "output_type": "stream",
     "text": [
      "Beaurepaire par henri Frederic et Marie Celna hictin du femme, demeurant à Paris Massage Tivoli 18, à Tlienne Alithur Dican et Louise Pelicienne Grante, sa femme, demeurant à Paris, passage Lathuile 21, dbn fonds Le boucherie à Paris passage Teivoli 18, moyennat Ayovot.\n",
      "\n",
      "\n",
      "Beaurepaire PER\n",
      "Frederic PER\n",
      "Marie Celna PER\n",
      "Paris LOC\n",
      "Tlienne Alithur Dican PER\n",
      "Louise Pelicienne PER\n",
      "Paris LOC\n",
      "Lathuile LOC\n",
      "Paris LOC\n",
      "Ayovot PER\n",
      "_________ \n",
      "\n",
      "Inbtitut agricole de Giel pour la formation d'un. mnstitut annicole Vons le nom de dont le Siège socue. est etabli à Giel l'Eure, pour Lévelopper l'elude de l'agroenlture Laus les Classes hanvres.\n",
      "\n",
      "\n",
      "Inbtitut LOC\n",
      "Giel LOC\n",
      "mnstitut annicole MISC\n",
      "Siège MISC\n",
      "Giel LOC\n",
      "Eure LOC\n",
      "Lévelopper LOC\n",
      "Laus LOC\n",
      "Classes hanvres MISC\n",
      "_________ \n",
      "\n",
      "Luvignolle Crectifucative par herman etrequisition. de rertifieut de proeprieté.\n",
      "\n",
      "\n",
      "Luvignolle Crectifucative PER\n",
      "_________ \n",
      "\n",
      "Imibeaux de prieces constatant les publications de contrat Le mariage de M Imbeaux ave ^le Rivec.\n",
      "\n",
      "\n",
      "Imibeaux LOC\n",
      "Le mariage de MISC\n",
      "M Imbeaux ave ^le Rivec PER\n",
      "_________ \n",
      "\n",
      "Reynosi par Alvro Fremcisce Carlos, demeurant à Paris ruc de Chateau dun 40 à Cen blanc à l'effet de presdre un brevet d'unvenicon Lunr le Repube que Argestne pires le coneration des Viomdes.\n",
      "\n",
      "\n",
      "Reynosi LOC\n",
      "Alvro LOC\n",
      "Fremcisce Carlos PER\n",
      "Paris LOC\n",
      "Chateau LOC\n",
      "Cen LOC\n",
      "Lunr LOC\n",
      "Repube LOC\n",
      "Argestne PER\n",
      "Viomdes LOC\n",
      "_________ \n",
      "\n",
      "Tayre par Marie Freneoire hononme Tenrisse, épouse de Pierre Lons dememant à Paris, rue du Wavre, ne 11 à Valastne Mantric, dememranrt à Paris avenue de Clichy 48.\n",
      "\n",
      "\n",
      "Tayre PER\n",
      "Marie Freneoire PER\n",
      "Pierre Lons PER\n",
      "Paris LOC\n",
      "rue du Wavre LOC\n",
      "Valastne Mantric PER\n",
      "Paris LOC\n",
      "Clichy 48 LOC\n",
      "_________ \n",
      "\n",
      "Luvignolle har herman et Tdmée Caroline Marie Manli sn femme, demeurant à Besear Basses Brence à enblenc, a l'effet de toucher.\n",
      "\n",
      "\n",
      "Luvignolle LOC\n",
      "Tdmée PER\n",
      "Caroline Marie Manli PER\n",
      "Besear Basses Brence PER\n",
      "_________ \n",
      "\n",
      "Lavignolle par la dite dane épouse à en blemc, à leffet deceptor inremplur d'Enne Créance de 15000 t meresite dur P Etar\n",
      "\n",
      "\n",
      "Lavignolle LOC\n",
      "Enne Créance PER\n",
      "P LOC\n",
      "_________ \n",
      "\n",
      "Lavignolle parr les dibs Sieur et dane\n",
      "\n",
      "\n",
      "Lavignolle LOC\n",
      "Sieur et dane MISC\n",
      "_________ \n",
      "\n",
      "Luvignolle par les mrenees à leffet de Poucher ue Tréonce 8lo, à ler blanc\n",
      "\n",
      "\n",
      "Luvignolle LOC\n",
      "Poucher ue PER\n",
      "Tréonce LOC\n",
      "_________ \n",
      "\n",
      "Lavignolle par M^re . Lus nommée. à l'effet d'accepter en remplos une rente sur Vrlat.\n",
      "\n",
      "\n",
      "Lavignolle LOC\n",
      "M^re LOC\n",
      "Lus nommée LOC\n",
      "Vrlat PER\n",
      "_________ \n",
      "\n",
      "Tollin Cpar Marie Phiippe Adolpte agens de Chomye à Ponris, rue Nalery. 4, à Georges Anguste Comeille Faviot, dememrt à Paris, rue S^t Layare, 82. à l'effet d'accepte de M Lavignolse 13000 t hour itre em poyes en rente d^rs0\n",
      "\n",
      "\n",
      "Cpar Marie Phiippe Adolpte PER\n",
      "Chomye PER\n",
      "Ponris LOC\n",
      "rue Nalery LOC\n",
      "Georges Anguste Comeille Faviot PER\n",
      "Paris LOC\n",
      "rue S^t Layare LOC\n",
      "M Lavignolse PER\n",
      "_________ \n",
      "\n",
      "Lavigrolle par les d. M ap Irne à M^r Vavrot Sus nomme a lieffes de faire mmmatneuler des vaceurs.\n",
      "\n",
      "\n",
      "Lavigrolle LOC\n",
      "M ap Irne PER\n",
      "M^r ORG\n",
      "_________ \n",
      "\n",
      "Lavignolle rectisocasive des presoms de mr d^e dame\n",
      "\n",
      "\n",
      "Lavignolle LOC\n",
      "_________ \n",
      "\n",
      "Enignolle par les mime .... Antoine Napoleon. Prosper Albaret, dememant à Paris rue S^ Luzere 82..... douche\n",
      "\n",
      "\n",
      "Enignolle LOC\n",
      "Antoine Napoleon PER\n",
      "Prosper Albaret PER\n",
      "Paris LOC\n",
      "_________ \n",
      "\n",
      "Gayy ...... par Maregueri Victore Lebon Vemve Le Jean Laui Lemaminn d̀ Batignolles, ue Jouffroy 1.. a Jear Puvre Buchesne, Le meuant à Paris rue Venellos, n 7 de 35500+\n",
      "\n",
      "\n",
      "Gayy PER\n",
      "Maregueri PER\n",
      "Victore Lebon PER\n",
      "Jean Laui Lemaminn d̀ Batignolles PER\n",
      "ue Jouffroy LOC\n",
      "Jear Puvre Buchesne PER\n",
      "Le meuant à Paris LOC\n",
      "_________ \n",
      "\n",
      "Margues par Antonio Marid dememrent à Paris, Toutevard hanssmomn, N° 181 à Imile Malmon. Lemenraint ò Paris, Jauleanrg Ponsomiere, n°30 pour comtiteur nne Loccelé pour lataction par a vopeuir des Tramvayys.\n",
      "\n",
      "\n",
      "Margues LOC\n",
      "Antonio Marid PER\n",
      "Paris LOC\n",
      "Toutevard LOC\n",
      "Imile Malmon PER\n",
      "Paris LOC\n",
      "Jauleanrg Ponsomiere PER\n",
      "Loccelé ORG\n",
      "Tramvayys LOC\n",
      "_________ \n",
      "\n",
      "Ohilippe Char Louris Lemeurant à Paris Chie Voltaire, 33 Corblanc à l'effet de Ce represinter au sntrat de mariage amp a lo celebration Civile relegieuse Au mariege de Mu^eh Choannet avc M. Bertann.\n",
      "\n",
      "\n",
      "Ohilippe Char PER\n",
      "Paris LOC\n",
      "33 Corblanc LOC\n",
      "Civile relegieuse ORG\n",
      "Mu^eh Choannet avc PER\n",
      "_________ \n",
      "\n",
      "Iucher Cpar Marie Rose Delafosse epouse de Acilpte Edt. mond avec qus elle Lemenre à Perrs, uue de la Camterne n°31. en blanc, à leffet de ralifear ux contrat de vinte\n",
      "\n",
      "\n",
      "Iucher LOC\n",
      "Rose Delafosse PER\n",
      "Acilpte LOC\n",
      "Lemenre LOC\n",
      "Perrs LOC\n",
      "Camterne LOC\n",
      "_________ \n",
      "\n",
      "1 ..... deaubauf har Adelai de Landeuux veuve Le Rese Lememanne Paris, rue des Batignolles, 32,. à Valestis Marte, Lem eme de Paris. avemme de Clchy. 438... a Cesfec ae gére. detnistte\n",
      "\n",
      "\n",
      "Adelai de Landeuux PER\n",
      "Rese Lememanne Paris LOC\n",
      "rue des Batignolles LOC\n",
      "Valestis Marte PER\n",
      "Lem eme de Paris PER\n",
      "Clchy MISC\n",
      "Cesfec LOC\n",
      "_________ \n",
      "\n"
     ]
    }
   ],
   "source": [
    "show_entities(sample_processed_cer_25)"
   ]
  },
  {
   "cell_type": "code",
   "execution_count": 31,
   "id": "472ff352-288e-42a3-8a14-9012b52004ca",
   "metadata": {},
   "outputs": [
    {
     "name": "stdout",
     "output_type": "stream",
     "text": [
      "Prédiction NER : 107 entités nommées\n"
     ]
    }
   ],
   "source": [
    "entity_count_cer_25 = show_ner_prediction_nb(sample_processed_cer_25)"
   ]
  },
  {
   "cell_type": "code",
   "execution_count": 32,
   "id": "636f0690-632c-40eb-a430-daa0dfaadce0",
   "metadata": {},
   "outputs": [],
   "source": [
    "nb_entries_cer_25 = how_many_entries(sample_cer_25)\n",
    "nb_per_org_cer_25 = count_per_org(sample_processed_cer_25)\n",
    "accuracy_cer_25 = compute_accuracy(nb_per_org_cer_25, nb_entries_cer_25)"
   ]
  },
  {
   "cell_type": "code",
   "execution_count": 33,
   "id": "3d4961f9-c69d-4640-865d-a8c79e74124c",
   "metadata": {},
   "outputs": [
    {
     "name": "stdout",
     "output_type": "stream",
     "text": [
      "Nombre d'enregistrements présents sur la page : 20 \t Nombre de premières entités étant PER ou ORG : 7\n",
      "Accuracy : 35.0\n"
     ]
    }
   ],
   "source": [
    "print(f'Nombre d\\'enregistrements présents sur la page : {nb_entries_cer_25} \\t Nombre de premières entités étant PER ou ORG : {nb_per_org_cer_25}')\n",
    "\n",
    "print(f'Accuracy : {accuracy_cer_25}')"
   ]
  },
  {
   "cell_type": "markdown",
   "id": "18d68d3d-a66f-4066-aa91-ea11c2b53244",
   "metadata": {},
   "source": [
    "## CER 31%"
   ]
  },
  {
   "cell_type": "code",
   "execution_count": 34,
   "id": "135cd151-062f-413a-9031-ef7a48eeb8df",
   "metadata": {},
   "outputs": [],
   "source": [
    "source_cer_31 = \"../../corpus_test/lectaurep/ner_test_first_token/img_1/pagexml/cer_31/DAFANCH96_023MIC07640_L-1.xml\"\n",
    "content_cer_31 = open_and_parse(source_cer_31)\n",
    "sample_cer_31 = get_transcription_list(content_cer_31)\n",
    "sample_splitted_cer_31 = [split_word_on_caps(entry) for entry in sample_cer_31]"
   ]
  },
  {
   "cell_type": "code",
   "execution_count": 35,
   "id": "1e872aa5-1ed3-40ee-b41e-b3d694336263",
   "metadata": {
    "scrolled": true,
    "tags": []
   },
   "outputs": [
    {
     "data": {
      "text/plain": [
       "['Beaurepaire (par Henre Frédéric) et Marie Celira Butin re femme) demeurant à Paris, passage Tivoli 18, à Etrenne Aetaur Decau et Louise Félicnne Grante, su femme, demeuaire à Paris, passage Lathuile 21, Ven fonds de boncherce à Paris passage Tivoli 18, moyennant 24000 f',\n",
       " \"Insneur agricole de Giel (pour la fornation d'un itiour agrcole sous le nom de) dom 2 siège sociae ent étable à Giel Eure), nom dévélapper l'étde de l'agnentture Lans les Casses pauvres.\",\n",
       " 'Lavignolle (Sedrepraime par Berman) d requiesion de ressifiai de proprieté',\n",
       " 'Smbeaux (depièces consatine les ublecations de contrai de mariai de M Imbeuut rue M^eee Pueit',\n",
       " \"Reynoso (par Alvrice Ferneise Carlon) demeurere à Paris rue de Chasandun 40 à (ablanc) à l'eppe de prendre un brerer d'mesion danx le Rqpuiellique Argentine paur le consernation des Viades.\",\n",
       " 'Layre (par Marie Françoise nomme Tenisse, épouse de Pierr Louis) demeurant de Paris, rue de Havre, n° 11 a Velart Martni, demenror à Paris avenue de Cichy 41',\n",
       " \"Lavignolle (par Herman) à Edmée cone Marie Moulin s femme demeurant à Descar (asse Pience) aà en bleinc, a l'estet de toucher\",\n",
       " 'Lavignolle par ladie danc épouse) à en blanc, à leffer dacepsen ensemplier dune céance de 15000 f seon du 12',\n",
       " 'Lavignolle (par les dits Siuretdane)',\n",
       " \"Lavignolle (par les mêmes) à l'effee de boucher rue Créonc ble à (er blanc)\",\n",
       " \"Lavignolle (par M^e) susnommée a l'epse acceptes en remploi une reunte sun l Etar\",\n",
       " \"Tollin (par Marie Paeinre Marne au de Change à Paris, rue Nalevy. 4, à Georges Augusse Coneille Fanos, dememneute Paris, rue St Lazare 32 à l'eppee d'accepte de M Lavignile 15000+ pour ete maayes e rerte 5m\",\n",
       " 'Lavigrolle (parle d V^r& Irne à Mranat sesnomme & defer de fenc imataudes aes valcurs',\n",
       " 'Lavignolle (cctificatuvre des penans de Ma de dan)',\n",
       " \"Largnolle (par lemêm Ancenne Paole Cope alarer, demeurant à Paris rue d'uzore 2°- sonte\",\n",
       " 'Gay par marieur Vctaueabaia  jean cou Seme Lienn Barqneris aeouspe 10 a Jeanvene Buchine, demeraira Paris rue couclor 177 de 35500.',\n",
       " 'Clarques (par Ancene Par) demeurint à Pins coutevard rosmom, n° 181 a Inde Marmen, demeneuà Paris Janbaure Possennere, n°00 pour donve luer une décédé pour le tocton pa lavapeur de Tramnars',\n",
       " 'Douipre (par Louis) eurient à Paris Rrue Voltaire, 23, (erleane à Lepserde Cipmente de etaranaiage a la Celdtneion Avice a reugène du maraage de M^ele Chavanerne M 1 Bertau',\n",
       " 'Hucher (par Marie Pa dapne) epouc Aaolise Edrmend arcc ous cile démeure a Pars a dale Cancra n°36 en beanc a 218 er acretifier ru conteut de vente',\n",
       " 'Caucauf par daride Iiner sion de Pere) memee aresrue des Bannales, 31, a Valenm Mar Ane d̀ Paris avêmue d Cle 18 à Costee decqère dront']"
      ]
     },
     "execution_count": 35,
     "metadata": {},
     "output_type": "execute_result"
    }
   ],
   "source": [
    "sample_splitted_cer_31"
   ]
  },
  {
   "cell_type": "code",
   "execution_count": 36,
   "id": "7d9d4ed5-0009-4f4a-8339-47d7679e6250",
   "metadata": {},
   "outputs": [],
   "source": [
    "sample_processed_cer_31 = [nlp_pipeline_fr(str(enregistrement)) for enregistrement in sample_splitted_cer_31]"
   ]
  },
  {
   "cell_type": "code",
   "execution_count": 37,
   "id": "feb80c5f-979d-4ed2-bd1e-4543869b5884",
   "metadata": {
    "scrolled": true,
    "tags": []
   },
   "outputs": [
    {
     "name": "stdout",
     "output_type": "stream",
     "text": [
      "Beaurepaire (par Henre Frédéric) et Marie Celira Butin re femme) demeurant à Paris, passage Tivoli 18, à Etrenne Aetaur Decau et Louise Félicnne Grante, su femme, demeuaire à Paris, passage Lathuile 21, Ven fonds de boncherce à Paris passage Tivoli 18, moyennant 24000 f\n",
      "\n",
      "\n",
      "Beaurepaire PER\n",
      "Henre Frédéric PER\n",
      "Marie Celira Butin re femme PER\n",
      "Paris LOC\n",
      "Tivoli 18 LOC\n",
      "Etrenne Aetaur Decau PER\n",
      "Louise Félicnne Grante PER\n",
      "Paris LOC\n",
      "Lathuile 21 LOC\n",
      "Ven fonds de boncherce MISC\n",
      "Paris LOC\n",
      "Tivoli 18 LOC\n",
      "_________ \n",
      "\n",
      "Insneur agricole de Giel (pour la fornation d'un itiour agrcole sous le nom de) dom 2 siège sociae ent étable à Giel Eure), nom dévélapper l'étde de l'agnentture Lans les Casses pauvres.\n",
      "\n",
      "\n",
      "Insneur LOC\n",
      "Giel LOC\n",
      "Giel Eure LOC\n",
      "Lans les Casses MISC\n",
      "_________ \n",
      "\n",
      "Lavignolle (Sedrepraime par Berman) d requiesion de ressifiai de proprieté\n",
      "\n",
      "\n",
      "Lavignolle LOC\n",
      "Sedrepraime LOC\n",
      "Berman PER\n",
      "proprieté ORG\n",
      "_________ \n",
      "\n",
      "Smbeaux (depièces consatine les ublecations de contrai de mariai de M Imbeuut rue M^eee Pueit\n",
      "\n",
      "\n",
      "Smbeaux LOC\n",
      "M Imbeuut PER\n",
      "_________ \n",
      "\n",
      "Reynoso (par Alvrice Ferneise Carlon) demeurere à Paris rue de Chasandun 40 à (ablanc) à l'eppe de prendre un brerer d'mesion danx le Rqpuiellique Argentine paur le consernation des Viades.\n",
      "\n",
      "\n",
      "Reynoso LOC\n",
      "Alvrice Ferneise Carlon PER\n",
      "Paris LOC\n",
      "Rqpuiellique Argentine ORG\n",
      "Viades LOC\n",
      "_________ \n",
      "\n",
      "Layre (par Marie Françoise nomme Tenisse, épouse de Pierr Louis) demeurant de Paris, rue de Havre, n° 11 a Velart Martni, demenror à Paris avenue de Cichy 41\n",
      "\n",
      "\n",
      "Layre LOC\n",
      "Marie Françoise PER\n",
      "Tenisse LOC\n",
      "Pierr Louis PER\n",
      "Paris LOC\n",
      "rue de Havre LOC\n",
      "Velart Martni PER\n",
      "Paris LOC\n",
      "Cichy LOC\n",
      "_________ \n",
      "\n",
      "Lavignolle (par Herman) à Edmée cone Marie Moulin s femme demeurant à Descar (asse Pience) aà en bleinc, a l'estet de toucher\n",
      "\n",
      "\n",
      "Lavignolle LOC\n",
      "Herman PER\n",
      "Edmée LOC\n",
      "Marie Moulin s PER\n",
      "Descar MISC\n",
      "Pience LOC\n",
      "_________ \n",
      "\n",
      "Lavignolle par ladie danc épouse) à en blanc, à leffer dacepsen ensemplier dune céance de 15000 f seon du 12\n",
      "\n",
      "\n",
      "Lavignolle LOC\n",
      "_________ \n",
      "\n",
      "Lavignolle (par les dits Siuretdane)\n",
      "\n",
      "\n",
      "Lavignolle LOC\n",
      "Siuretdane LOC\n",
      "_________ \n",
      "\n",
      "Lavignolle (par les mêmes) à l'effee de boucher rue Créonc ble à (er blanc)\n",
      "\n",
      "\n",
      "Lavignolle LOC\n",
      "_________ \n",
      "\n",
      "Lavignolle (par M^e) susnommée a l'epse acceptes en remploi une reunte sun l Etar\n",
      "\n",
      "\n",
      "Lavignolle LOC\n",
      "M^e LOC\n",
      "Etar LOC\n",
      "_________ \n",
      "\n",
      "Tollin (par Marie Paeinre Marne au de Change à Paris, rue Nalevy. 4, à Georges Augusse Coneille Fanos, dememneute Paris, rue St Lazare 32 à l'eppee d'accepte de M Lavignile 15000+ pour ete maayes e rerte 5m\n",
      "\n",
      "\n",
      "Tollin LOC\n",
      "Marie Paeinre Marne PER\n",
      "Paris LOC\n",
      "Nalevy LOC\n",
      "Georges Augusse Coneille Fanos PER\n",
      "Paris LOC\n",
      "rue St Lazare LOC\n",
      "M Lavignile PER\n",
      "_________ \n",
      "\n",
      "Lavigrolle (parle d V^r& Irne à Mranat sesnomme & defer de fenc imataudes aes valcurs\n",
      "\n",
      "\n",
      "Lavigrolle LOC\n",
      "V^r& Irne MISC\n",
      "Mranat PER\n",
      "_________ \n",
      "\n",
      "Lavignolle (cctificatuvre des penans de Ma de dan)\n",
      "\n",
      "\n",
      "Lavignolle LOC\n",
      "Ma de dan MISC\n",
      "_________ \n",
      "\n",
      "Largnolle (par lemêm Ancenne Paole Cope alarer, demeurant à Paris rue d'uzore 2°- sonte\n",
      "\n",
      "\n",
      "Largnolle LOC\n",
      "Ancenne LOC\n",
      "Paole Cope PER\n",
      "Paris LOC\n",
      "_________ \n",
      "\n",
      "Gay par marieur Vctaueabaia  jean cou Seme Lienn Barqneris aeouspe 10 a Jeanvene Buchine, demeraira Paris rue couclor 177 de 35500.\n",
      "\n",
      "\n",
      "Vctaueabaia PER\n",
      "Seme Lienn PER\n",
      "Jeanvene Buchine PER\n",
      "Paris LOC\n",
      "_________ \n",
      "\n",
      "Clarques (par Ancene Par) demeurint à Pins coutevard rosmom, n° 181 a Inde Marmen, demeneuà Paris Janbaure Possennere, n°00 pour donve luer une décédé pour le tocton pa lavapeur de Tramnars\n",
      "\n",
      "\n",
      "Clarques LOC\n",
      "Ancene PER\n",
      "Pins LOC\n",
      "Inde Marmen LOC\n",
      "Paris LOC\n",
      "Possennere LOC\n",
      "Tramnars ORG\n",
      "_________ \n",
      "\n",
      "Douipre (par Louis) eurient à Paris Rrue Voltaire, 23, (erleane à Lepserde Cipmente de etaranaiage a la Celdtneion Avice a reugène du maraage de M^ele Chavanerne M 1 Bertau\n",
      "\n",
      "\n",
      "Douipre PER\n",
      "Louis PER\n",
      "Paris LOC\n",
      "Lepserde Cipmente PER\n",
      "Celdtneion Avice LOC\n",
      "M^ele Chavanerne M 1 Bertau PER\n",
      "_________ \n",
      "\n",
      "Hucher (par Marie Pa dapne) epouc Aaolise Edrmend arcc ous cile démeure a Pars a dale Cancra n°36 en beanc a 218 er acretifier ru conteut de vente\n",
      "\n",
      "\n",
      "Hucher LOC\n",
      "Marie Pa dapne PER\n",
      "Aaolise Edrmend PER\n",
      "Pars LOC\n",
      "Cancra LOC\n",
      "_________ \n",
      "\n",
      "Caucauf par daride Iiner sion de Pere) memee aresrue des Bannales, 31, a Valenm Mar Ane d̀ Paris avêmue d Cle 18 à Costee decqère dront\n",
      "\n",
      "\n",
      "Caucauf LOC\n",
      "Iiner LOC\n",
      "Pere PER\n",
      "Bannales LOC\n",
      "Valenm Mar Ane PER\n",
      "Paris LOC\n",
      "Cle LOC\n",
      "Costee LOC\n",
      "_________ \n",
      "\n"
     ]
    }
   ],
   "source": [
    "show_entities(sample_processed_cer_31)"
   ]
  },
  {
   "cell_type": "code",
   "execution_count": 38,
   "id": "f7dff293-b30a-4b17-8029-d9cfd75ef396",
   "metadata": {},
   "outputs": [
    {
     "name": "stdout",
     "output_type": "stream",
     "text": [
      "Prédiction NER : 96 entités nommées\n"
     ]
    }
   ],
   "source": [
    "entity_count_cer_31 = show_ner_prediction_nb(sample_processed_cer_31)"
   ]
  },
  {
   "cell_type": "code",
   "execution_count": 39,
   "id": "239834ba-2858-48b0-99e2-60dd2f657e3f",
   "metadata": {},
   "outputs": [],
   "source": [
    "nb_entries_cer_31 = how_many_entries(sample_cer_31)\n",
    "nb_per_org_cer_31 = count_per_org(sample_processed_cer_31)\n",
    "accuracy_cer_31 = compute_accuracy(nb_per_org_cer_31, nb_entries_cer_31)"
   ]
  },
  {
   "cell_type": "code",
   "execution_count": 40,
   "id": "e3bc3b28-816f-4eda-9e86-33facad65a2e",
   "metadata": {},
   "outputs": [
    {
     "name": "stdout",
     "output_type": "stream",
     "text": [
      "Nombre d'enregistrements présents sur la page : 20 \t Nombre de premières entités étant PER ou ORG : 3\n",
      "Accuracy : 15.0\n"
     ]
    }
   ],
   "source": [
    "print(f'Nombre d\\'enregistrements présents sur la page : {nb_entries_cer_31} \\t Nombre de premières entités étant PER ou ORG : {nb_per_org_cer_31}')\n",
    "\n",
    "print(f'Accuracy : {accuracy_cer_31}')"
   ]
  },
  {
   "cell_type": "markdown",
   "id": "d5fdb8fc-7ecf-401d-b57c-0611e56f743d",
   "metadata": {},
   "source": [
    "## CER 36%"
   ]
  },
  {
   "cell_type": "code",
   "execution_count": 41,
   "id": "e96d172f-8868-4dd2-9082-1b74c6ba8a73",
   "metadata": {},
   "outputs": [],
   "source": [
    "source_cer_36 = \"../../corpus_test/lectaurep/ner_test_first_token/img_1/pagexml/cer_36/DAFANCH96_023MIC07640_L-1.xml\"\n",
    "content_cer_36 = open_and_parse(source_cer_36)\n",
    "sample_cer_36 = get_transcription_list(content_cer_36)\n",
    "sample_splitted_cer_36 = [split_word_on_caps(entry) for entry in sample_cer_36]"
   ]
  },
  {
   "cell_type": "code",
   "execution_count": 42,
   "id": "a3a6b84c-a557-49ce-8670-2cfc0134b398",
   "metadata": {
    "scrolled": true,
    "tags": []
   },
   "outputs": [
    {
     "data": {
      "text/plain": [
       "['Beaureparre par herrre Gréderic et Mlarie Celins hichin. dufemme, clemeurans à Paris Massage Tivoli 10, à Thranme Authur Decan et Louise Felievnne Grante, du femme, demeureine à Pariss, passiage Lathuile 21. d En fonds de leoucherie à Paris. passage Teivoli 18, moyermort 24000 r.',\n",
       " \"Institut agricolé de Giel Cpour le formation d'un. ititut ayricole Vous le nom de doms l Siege socine. est et able à fiel Eure ..... hour Levelappir l'etude Le Cagrienltine Lavs les Chasses hanvies.\",\n",
       " 'Tvignolle Crectificative par herman et requisition. de restifieur de proprieté.',\n",
       " 'dmbeaux ...... de pieces constatant les suiblecetions le contint de mariage de M. Imbeaux auer M^el Revers',\n",
       " \"Reynoss. parr Alvriro Fremeises Carlos, Lemieureine à Paris rue de Chatemidnn 40. à Ce blanc à l'effer de prendre u brevet d'unvenion anns les Repoul leque Argentire porue le consenation les Viomdes.\",\n",
       " 'Cayré .paar Marie Francoise hononmne Tenrisse, épouse de Pierre som. demernaurss et Paris, rue de Wavre, N° 11. Valartur Martnc.. dememonst e Paris aveme de Clechy 48',\n",
       " 'Luvignolle par Mlermass et Tdmée Carotme Marce Monlm  pemme, Lemenrans i Besear Basses Prence. d en blene, en lellet de toucher.',\n",
       " \"Lavignolle ..... par la dile d'ane épouse.n en bleme, à Leftes d'acupton mremplur^ Anne erdance de 15 povd^e mua roste dus Prlor\",\n",
       " 'Lavignolle Chorr les dits Sieux et dane',\n",
       " 'Lavignolle ....ppar les mêners à leffe de Poucher ue. Tréome ble, à ler Manc.',\n",
       " \"Lavignolle par M^re... sus nonnée. à l'efhar d accptes en remplos une rente Sur l'Rlat\",\n",
       " \"Tollin Cpar Marie Philipine Claolphe agens de Chomge à Parss, rue Nolevy. 4, à Georges Angusde Comeille Paviot, limennrn a Paris, rue S^t Lryarc 82. à l'etb^rt d'ascephe. de dt Lavigniese 15000 t. hour Ttre mmpoyyes du rente 5070.\",\n",
       " 'Lavigrolle Cparrle de Mt dane à Mr ravrot Les nomme et Leftes deu perise mmatneuder eu Valaus.',\n",
       " 'Cavignol le Crectipveutive des pronoms de mar V^e dame',\n",
       " 'Eavynolle pon les mone ..... Antomne Napoleon Prospar albares, demomreres à Paris rue S^t Eugere 82.... bcriche',\n",
       " 'Gar ..... par Marcqueries Victene ebon Venve d Jean Lomi Ltmomanr Bdatig nollés ...u Jauffroy 1. Jeur Puvre. Foucheme, Lememunr e. Paris u Vevrillon N 7 de 35500.',\n",
       " 'Marques parr Anienie Maruie Lemernent à Paris, Teoutevard^ nansimonn, Nn° 181. à Imele Malmon. Lemenaant o Paris. Jan beaurny Vonsomniere, N° od pour pomiteur mns Ldecelé pous la hoction para vapeuir aes Tremusany',\n",
       " \"Poilippe par Lomis ..... Immeurunt dè Paris Caine Uoltaire. 13.....on blane à l'apsyes e le usrosinter Aix dhutuemariage da le celeboniseon Civile iliqueine Lu mruniege de M^es Chomvannst rvre 84 Bervain\",\n",
       " 'Vucher .par Marie Ros Delafone Epouse de Au Epse Totrmond. aver aux ette Lemeure  Vers mur Lla la Crincter ainer N° 34 du blanc, à Cepher aeratifeer un contrat Le vente.',\n",
       " 'Meaubauf. pur Odecaille Lamdein ploive de Resse lmemanne Pares, ie de Batignolles, 31 ..... Vulestin Mart, Amnames de Pars^t avesme L. Clechry. 48. Le Tesser ae gere detnmihe']"
      ]
     },
     "execution_count": 42,
     "metadata": {},
     "output_type": "execute_result"
    }
   ],
   "source": [
    "sample_splitted_cer_36"
   ]
  },
  {
   "cell_type": "code",
   "execution_count": 43,
   "id": "a2ad9f43-be70-484a-8391-39682faec9bf",
   "metadata": {},
   "outputs": [],
   "source": [
    "sample_processed_cer_36 = [nlp_pipeline_fr(str(enregistrement)) for enregistrement in sample_splitted_cer_36]"
   ]
  },
  {
   "cell_type": "code",
   "execution_count": 44,
   "id": "06996fd0-bc73-4a75-ab5b-a378c1ed20e5",
   "metadata": {
    "scrolled": true,
    "tags": []
   },
   "outputs": [
    {
     "name": "stdout",
     "output_type": "stream",
     "text": [
      "Beaureparre par herrre Gréderic et Mlarie Celins hichin. dufemme, clemeurans à Paris Massage Tivoli 10, à Thranme Authur Decan et Louise Felievnne Grante, du femme, demeureine à Pariss, passiage Lathuile 21. d En fonds de leoucherie à Paris. passage Teivoli 18, moyermort 24000 r.\n",
      "\n",
      "\n",
      "Beaureparre PER\n",
      "Mlarie Celins hichin PER\n",
      "Paris LOC\n",
      "Thranme Authur Decan PER\n",
      "Louise Felievnne Grante PER\n",
      "Pariss PER\n",
      "Lathuile LOC\n",
      "Paris LOC\n",
      "Teivoli 18 MISC\n",
      "_________ \n",
      "\n",
      "Institut agricolé de Giel Cpour le formation d'un. ititut ayricole Vous le nom de doms l Siege socine. est et able à fiel Eure ..... hour Levelappir l'etude Le Cagrienltine Lavs les Chasses hanvies.\n",
      "\n",
      "\n",
      "Institut agricolé de Giel Cpour LOC\n",
      "Siege socine MISC\n",
      "Eure LOC\n",
      "Levelappir LOC\n",
      "Le Cagrienltine PER\n",
      "Chasses hanvies MISC\n",
      "_________ \n",
      "\n",
      "Tvignolle Crectificative par herman et requisition. de restifieur de proprieté.\n",
      "\n",
      "\n",
      "Tvignolle Crectificative PER\n",
      "_________ \n",
      "\n",
      "dmbeaux ...... de pieces constatant les suiblecetions le contint de mariage de M. Imbeaux auer M^el Revers\n",
      "\n",
      "\n",
      "M. Imbeaux PER\n",
      "_________ \n",
      "\n",
      "Reynoss. parr Alvriro Fremeises Carlos, Lemieureine à Paris rue de Chatemidnn 40. à Ce blanc à l'effer de prendre u brevet d'unvenion anns les Repoul leque Argentire porue le consenation les Viomdes.\n",
      "\n",
      "\n",
      "Reynoss LOC\n",
      "Alvriro Fremeises Carlos PER\n",
      "Lemieureine LOC\n",
      "Paris LOC\n",
      "Chatemidnn LOC\n",
      "Repoul leque LOC\n",
      "Argentire LOC\n",
      "Viomdes LOC\n",
      "_________ \n",
      "\n",
      "Cayré .paar Marie Francoise hononmne Tenrisse, épouse de Pierre som. demernaurss et Paris, rue de Wavre, N° 11. Valartur Martnc.. dememonst e Paris aveme de Clechy 48\n",
      "\n",
      "\n",
      "Marie Francoise hononmne Tenrisse PER\n",
      "Pierre som PER\n",
      "Paris LOC\n",
      "rue de Wavre LOC\n",
      "N LOC\n",
      "Paris LOC\n",
      "Clechy LOC\n",
      "_________ \n",
      "\n",
      "Luvignolle par Mlermass et Tdmée Carotme Marce Monlm  pemme, Lemenrans i Besear Basses Prence. d en blene, en lellet de toucher.\n",
      "\n",
      "\n",
      "Luvignolle LOC\n",
      "Mlermass LOC\n",
      "Tdmée Carotme PER\n",
      "Marce Monlm PER\n",
      "Lemenrans i Besear PER\n",
      "_________ \n",
      "\n",
      "Lavignolle ..... par la dile d'ane épouse.n en bleme, à Leftes d'acupton mremplur^ Anne erdance de 15 povd^e mua roste dus Prlor\n",
      "\n",
      "\n",
      "Lavignolle LOC\n",
      "Leftes LOC\n",
      "Anne PER\n",
      "Prlor LOC\n",
      "_________ \n",
      "\n",
      "Lavignolle Chorr les dits Sieux et dane\n",
      "\n",
      "\n",
      "Lavignolle LOC\n",
      "Sieux LOC\n",
      "_________ \n",
      "\n",
      "Lavignolle ....ppar les mêners à leffe de Poucher ue. Tréome ble, à ler Manc.\n",
      "\n",
      "\n",
      "Lavignolle LOC\n",
      "Poucher LOC\n",
      "_________ \n",
      "\n",
      "Lavignolle par M^re... sus nonnée. à l'efhar d accptes en remplos une rente Sur l'Rlat\n",
      "\n",
      "\n",
      "Lavignolle LOC\n",
      "M^re PER\n",
      "Sur l'Rlat MISC\n",
      "_________ \n",
      "\n",
      "Tollin Cpar Marie Philipine Claolphe agens de Chomge à Parss, rue Nolevy. 4, à Georges Angusde Comeille Paviot, limennrn a Paris, rue S^t Lryarc 82. à l'etb^rt d'ascephe. de dt Lavigniese 15000 t. hour Ttre mmpoyyes du rente 5070.\n",
      "\n",
      "\n",
      "Cpar Marie Philipine Claolphe PER\n",
      "Chomge MISC\n",
      "Parss LOC\n",
      "Nolevy MISC\n",
      "Georges Angusde Comeille PER\n",
      "Paris LOC\n",
      "Lavigniese LOC\n",
      "Ttre LOC\n",
      "_________ \n",
      "\n",
      "Lavigrolle Cparrle de Mt dane à Mr ravrot Les nomme et Leftes deu perise mmatneuder eu Valaus.\n",
      "\n",
      "\n",
      "Lavigrolle Cparrle LOC\n",
      "Mt dane LOC\n",
      "Mr PER\n",
      "Leftes deu MISC\n",
      "Valaus LOC\n",
      "_________ \n",
      "\n",
      "Cavignol le Crectipveutive des pronoms de mar V^e dame\n",
      "\n",
      "\n",
      "Cavignol MISC\n",
      "Crectipveutive LOC\n",
      "V^e LOC\n",
      "_________ \n",
      "\n",
      "Eavynolle pon les mone ..... Antomne Napoleon Prospar albares, demomreres à Paris rue S^t Eugere 82.... bcriche\n",
      "\n",
      "\n",
      "Eavynolle LOC\n",
      "Antomne Napoleon Prospar albares PER\n",
      "Paris LOC\n",
      "_________ \n",
      "\n",
      "Gar ..... par Marcqueries Victene ebon Venve d Jean Lomi Ltmomanr Bdatig nollés ...u Jauffroy 1. Jeur Puvre. Foucheme, Lememunr e. Paris u Vevrillon N 7 de 35500.\n",
      "\n",
      "\n",
      "Gar PER\n",
      "Marcqueries Victene PER\n",
      "Jean Lomi Ltmomanr Bdatig PER\n",
      "Jeur Puvre PER\n",
      "Foucheme LOC\n",
      "Lememunr LOC\n",
      "Paris LOC\n",
      "_________ \n",
      "\n",
      "Marques parr Anienie Maruie Lemernent à Paris, Teoutevard^ nansimonn, Nn° 181. à Imele Malmon. Lemenaant o Paris. Jan beaurny Vonsomniere, N° od pour pomiteur mns Ldecelé pous la hoction para vapeuir aes Tremusany\n",
      "\n",
      "\n",
      "Maruie Lemernent PER\n",
      "Paris LOC\n",
      "Teoutevard^ nansimonn LOC\n",
      "Nn LOC\n",
      "Imele Malmon PER\n",
      "Lemenaant o Paris LOC\n",
      "Jan beaurny Vonsomniere PER\n",
      "N° od MISC\n",
      "Tremusany ORG\n",
      "_________ \n",
      "\n",
      "Poilippe par Lomis ..... Immeurunt dè Paris Caine Uoltaire. 13.....on blane à l'apsyes e le usrosinter Aix dhutuemariage da le celeboniseon Civile iliqueine Lu mruniege de M^es Chomvannst rvre 84 Bervain\n",
      "\n",
      "\n",
      "Poilippe MISC\n",
      "Lomis PER\n",
      "Immeurunt dè PER\n",
      "Caine Uoltaire PER\n",
      "Aix LOC\n",
      "M^es Chomvannst LOC\n",
      "_________ \n",
      "\n",
      "Vucher .par Marie Ros Delafone Epouse de Au Epse Totrmond. aver aux ette Lemeure  Vers mur Lla la Crincter ainer N° 34 du blanc, à Cepher aeratifeer un contrat Le vente.\n",
      "\n",
      "\n",
      "Vucher MISC\n",
      "Marie Ros Delafone PER\n",
      "Epse Totrmond MISC\n",
      "Lemeure   MISC\n",
      "mur Lla MISC\n",
      "Cepher ORG\n",
      "_________ \n",
      "\n",
      "Meaubauf. pur Odecaille Lamdein ploive de Resse lmemanne Pares, ie de Batignolles, 31 ..... Vulestin Mart, Amnames de Pars^t avesme L. Clechry. 48. Le Tesser ae gere detnmihe\n",
      "\n",
      "\n",
      "Meaubauf LOC\n",
      "Odecaille LOC\n",
      "Resse lmemanne MISC\n",
      "Batignolles LOC\n",
      "Amnames de PER\n",
      "Pars^t LOC\n",
      "L. Clechry PER\n",
      "Tesser ae gere detnmihe MISC\n",
      "_________ \n",
      "\n"
     ]
    }
   ],
   "source": [
    "show_entities(sample_processed_cer_36)"
   ]
  },
  {
   "cell_type": "code",
   "execution_count": 45,
   "id": "ab64408d-b17c-4e9f-82a5-b4b24e2987d2",
   "metadata": {},
   "outputs": [
    {
     "name": "stdout",
     "output_type": "stream",
     "text": [
      "Prédiction NER : 103 entités nommées\n"
     ]
    }
   ],
   "source": [
    "entity_count_cer_36 = show_ner_prediction_nb(sample_processed_cer_36)"
   ]
  },
  {
   "cell_type": "code",
   "execution_count": 46,
   "id": "c7292790-92a0-45e8-afff-446bed170d1f",
   "metadata": {},
   "outputs": [],
   "source": [
    "nb_entries_cer_36 = how_many_entries(sample_cer_36)\n",
    "nb_per_org_cer_36 = count_per_org(sample_processed_cer_36)\n",
    "accuracy_cer_36 = compute_accuracy(nb_per_org_cer_36, nb_entries_cer_36)"
   ]
  },
  {
   "cell_type": "code",
   "execution_count": 47,
   "id": "28b56995-0fe9-425f-a4bc-e5ab089a006b",
   "metadata": {},
   "outputs": [
    {
     "name": "stdout",
     "output_type": "stream",
     "text": [
      "Nombre d'enregistrements présents sur la page : 20 \t Nombre de premières entités étant PER ou ORG : 7\n",
      "Accuracy : 35.0\n"
     ]
    }
   ],
   "source": [
    "print(f'Nombre d\\'enregistrements présents sur la page : {nb_entries_cer_36} \\t Nombre de premières entités étant PER ou ORG : {nb_per_org_cer_36}')\n",
    "\n",
    "print(f'Accuracy : {accuracy_cer_36}')"
   ]
  },
  {
   "cell_type": "markdown",
   "id": "0fb4e263-7389-4569-b3fe-5e3ab869e7ad",
   "metadata": {},
   "source": [
    "## Analyse des résultats"
   ]
  },
  {
   "cell_type": "code",
   "execution_count": 48,
   "id": "63e3909c-9515-4f41-bfcb-50dd414c4b7e",
   "metadata": {},
   "outputs": [
    {
     "data": {
      "image/png": "[encoded data removed]",
      "text/plain": [
       "<Figure size 432x288 with 1 Axes>"
      ]
     },
     "metadata": {},
     "output_type": "display_data"
    }
   ],
   "source": [
    "%matplotlib inline\n",
    "plt.style.use('ggplot')\n",
    "axes = plt.gca()\n",
    "axes.set_ylim([0, 100])\n",
    "x = ['0%', '8%', '18%', '25%', '31%', '36%']\n",
    "y = [float(str(accuracy_cer_0)[0:5]), float(str(accuracy_cer_8)[0:5]), float(str(accuracy_cer_18)[0:5]), float(str(accuracy_cer_25)[0:5]), \n",
    "float(str(accuracy_cer_31)[0:5]), float(str(accuracy_cer_36)[0:5])]\n",
    "x_pos = [i for i, _ in enumerate(x)]\n",
    "\n",
    "for index,data in enumerate(y):\n",
    "    plt.text(x=index-0.4, y=data+2, s=f\"{data}\" , fontdict=dict(fontsize=13))\n",
    "\n",
    "plt.bar(x_pos, y, color='salmon')\n",
    "plt.xlabel(\"Taux de CER\")\n",
    "plt.ylabel(\"Accuracy\")\n",
    "plt.title(\"Accuracy pour l'extraction des premiers tokens PER et ORG de chaque enregistrement \\n\")\n",
    "\n",
    "plt.xticks(x_pos, x)\n",
    "\n",
    "plt.show()"
   ]
  },
  {
   "cell_type": "markdown",
   "id": "a562ee2b-e088-469d-9de3-9d468c08b707",
   "metadata": {},
   "source": [
    "Avec ces résultats, on aurait donc du mal à indexer l'enregistrement à l'aide du nom de personne ou d'organisation qui lui est attribué.\n",
    "\n",
    "De plus, on remarque que le taux de précision ne suit pas une courbe régulière. Au contraire, il semble assez aléatoire, sauf pour le taux de CER à 31% où la performance chute drastiquement. Le résultat du NER sur une transcription manuelle ne montre pas de différence significative, à 40% de précision, c'est 6 entités sur 10 qui ne sont pas correctement identifiées comme PER ou ORG."
   ]
  },
  {
   "cell_type": "markdown",
   "id": "2b9c4cef-d24a-493c-bb2a-c20e49b293b0",
   "metadata": {},
   "source": [
    "## Expérience connexe - Nombre d'entités extraites selon taux de CER"
   ]
  },
  {
   "cell_type": "code",
   "execution_count": 49,
   "id": "d11ccb5e-043d-403a-8315-39e9d1d9ecfc",
   "metadata": {},
   "outputs": [
    {
     "data": {
      "image/png": "[encoded data removed]",
      "text/plain": [
       "<Figure size 432x288 with 1 Axes>"
      ]
     },
     "metadata": {},
     "output_type": "display_data"
    }
   ],
   "source": [
    "%matplotlib inline\n",
    "plt.style.use('ggplot')\n",
    "axes = plt.gca()\n",
    "axes.set_ylim([0, 150])\n",
    "x = ['0%', '8%', '18%', '25%', '31%', '36%']\n",
    "y = [float(str(entity_count_cer_0)[0:5]), float(str(entity_count_cer_8)[0:5]), float(str(entity_count_cer_18)[0:5]), float(str(entity_count_cer_25)[0:5]), \n",
    "float(str(entity_count_cer_31)[0:5]), float(str(entity_count_cer_36)[0:5])]\n",
    "x_pos = [i for i, _ in enumerate(x)]\n",
    "\n",
    "for index,data in enumerate(y):\n",
    "    plt.text(x=index-0.4, y=data+2, s=f\"{data}\" , fontdict=dict(fontsize=13))\n",
    "\n",
    "plt.bar(x_pos, y, color='salmon')\n",
    "plt.xlabel(\"Taux de CER\")\n",
    "plt.ylabel(\"Nombre d'entités extraites\")\n",
    "plt.title(\"Nombre d'entités extraites selon taux de CER \\n\")\n",
    "\n",
    "plt.xticks(x_pos, x)\n",
    "\n",
    "plt.show()"
   ]
  },
  {
   "cell_type": "markdown",
   "id": "3d74253a-9028-468a-a341-35c7ddb568e9",
   "metadata": {},
   "source": [
    "On observe que pour une même page, selon le taux de CER, le nombre d'entités extraites n'est pas régulier. Le taux de CER nous indique que selon la qualité de la transcription, les erreurs peuvent être différentes, et par conséquent troubler la pipeline de NLP, et donc le NER."
   ]
  }
 ],
 "metadata": {
  "kernelspec": {
   "display_name": "Python 3",
   "language": "python",
   "name": "python3"
  },
  "language_info": {
   "codemirror_mode": {
    "name": "ipython",
    "version": 3
   },
   "file_extension": ".py",
   "mimetype": "text/x-python",
   "name": "python",
   "nbconvert_exporter": "python",
   "pygments_lexer": "ipython3",
   "version": "3.8.8"
  }
 },
 "nbformat": 4,
 "nbformat_minor": 5
}
