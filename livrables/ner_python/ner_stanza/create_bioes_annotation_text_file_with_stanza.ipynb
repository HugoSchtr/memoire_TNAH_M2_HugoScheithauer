{
 "cells": [
  {
   "cell_type": "markdown",
   "id": "d7b65c63",
   "metadata": {},
   "source": [
    "# Création d'un fichier BIOES pour évaluation avec la librairie NERVAL"
   ]
  },
  {
   "cell_type": "markdown",
   "id": "927facd3",
   "metadata": {},
   "source": [
    "Dans le but de tester la [librairie python NERVAL](https://teklia.com/blog/202104-nerval/) (Teklia), on utilise le modèle de reconnaissance générique français de Stanza pour générer un fichier BIOES."
   ]
  },
  {
   "cell_type": "markdown",
   "id": "4df8a596",
   "metadata": {},
   "source": [
    "Un fichier BIOES est un format d'annotation pour les tokens, notamment pour les tâches de reconnaissance d'entités nommées.\n",
    "\n",
    "Il prend la forme suivante : \n",
    "\n",
    "`token tag`\n",
    "\n",
    "Les tags sont les suivants : \n",
    "\n",
    "* B : beginning\n",
    "* I : inside\n",
    "* O : outside\n",
    "* E : Ending\n",
    "* S : Single element\n",
    "\n",
    "Pour la phrase suivante \"Léon III l'Isaurien était un empereur byzantin, né à Germanicia, en Turquie actuelle.\", on aurait :\n",
    "\n",
    "```\n",
    "Léon B-PER\n",
    "III I-PER\n",
    "l' I-PER\n",
    "Isaurien E-PER\n",
    "était O\n",
    "un O\n",
    "empereur O\n",
    "byzantin O\n",
    ", O\n",
    "né O\n",
    "à O\n",
    "Germanicia S-LOC\n",
    ", O\n",
    "en O\n",
    "Turquie S-LOC\n",
    "actuelle O\n",
    ". O\n",
    "```"
   ]
  },
  {
   "cell_type": "markdown",
   "id": "d7df4a31",
   "metadata": {},
   "source": [
    "## Import"
   ]
  },
  {
   "cell_type": "markdown",
   "id": "f9a5d679",
   "metadata": {},
   "source": [
    "On importe Stanza."
   ]
  },
  {
   "cell_type": "code",
   "execution_count": 1,
   "id": "0858c3b1",
   "metadata": {},
   "outputs": [],
   "source": [
    "import stanza"
   ]
  },
  {
   "cell_type": "markdown",
   "id": "27ff28f5",
   "metadata": {},
   "source": [
    "## Création de la chaîne de traitement TAL"
   ]
  },
  {
   "cell_type": "markdown",
   "id": "f381b5d0",
   "metadata": {},
   "source": [
    "Pour effectuer la tâche de reconnaissance d'entités nommées, on crée la chaîne de traitement TAL en indiquant la langue, dont le modèle a préaleblement été téléchargé, ainsi que les tâches dont on a besoin : tokenization, et reconnaissance d'entités nommées."
   ]
  },
  {
   "cell_type": "code",
   "execution_count": 2,
   "id": "52b74b3f",
   "metadata": {},
   "outputs": [
    {
     "name": "stderr",
     "output_type": "stream",
     "text": [
      "2021-08-03 16:31:55 WARNING: Language fr package default expects mwt, which has been added\n",
      "2021-08-03 16:31:55 INFO: Loading these models for language: fr (French):\n",
      "=======================\n",
      "| Processor | Package |\n",
      "-----------------------\n",
      "| tokenize  | gsd     |\n",
      "| mwt       | gsd     |\n",
      "| ner       | wikiner |\n",
      "=======================\n",
      "\n",
      "2021-08-03 16:31:55 INFO: Use device: cpu\n",
      "2021-08-03 16:31:55 INFO: Loading: tokenize\n",
      "2021-08-03 16:31:55 INFO: Loading: mwt\n",
      "2021-08-03 16:31:55 INFO: Loading: ner\n",
      "2021-08-03 16:31:57 INFO: Done loading processors!\n"
     ]
    }
   ],
   "source": [
    "nlp = stanza.Pipeline(lang='fr', processors='tokenize, ner')"
   ]
  },
  {
   "cell_type": "markdown",
   "id": "47eeb3ef",
   "metadata": {},
   "source": [
    "## Pré-traitement des données"
   ]
  },
  {
   "cell_type": "markdown",
   "id": "bdafbdce",
   "metadata": {},
   "source": [
    "A partir de notre échantillon, une page d'un répertoire de notaire résultant de l'HTR, avec un CER de 13%, on crée une liste où chaque index est un enregistrement. De la sorte, on crée une segmentation artificielle des phrases."
   ]
  },
  {
   "cell_type": "code",
   "execution_count": 4,
   "id": "02b7df70",
   "metadata": {},
   "outputs": [],
   "source": [
    "with open(\"input/FRAN_0025_5038_L-0_htr_cer_13.txt\", \"r\", encoding=\"UTF-8\") as fh:\n",
    "    sample = fh.read()"
   ]
  },
  {
   "cell_type": "code",
   "execution_count": 5,
   "id": "9b96d331",
   "metadata": {},
   "outputs": [],
   "source": [
    "entries_list = sample.split('¬')\n",
    "entries_list_without_linebreakes = [entry.strip('\\n') for entry in entries_list]\n",
    "entries_list_without_linebreakes = entries_list_without_linebreakes[:-1]"
   ]
  },
  {
   "cell_type": "code",
   "execution_count": 16,
   "id": "44b82d65",
   "metadata": {},
   "outputs": [
    {
     "data": {
      "text/plain": [
       "['An 1911, mois de Mai',\n",
       " 'Gauvin- des reprises de M^me Suzanne Louise farnet spe au Mans (Sarthe) rue dus chalets 31 épouse séparée de corps de M. Auguste Aleandre',\n",
       " \"Gauvin de l'Etat Liquidatif sur enonce\",\n",
       " \"Tricon (au prêt consenti par le Crédit foncier à Benjamin Joseph Maurice 1 rue de Paris boulevard de Courcelles 50 d'un prêt de 90000\",\n",
       " 'Roge par M^me Charlotte Amelia Félinte Buron proprsétaire a Paris rue Leon Coqniet 11 veuf Joeph Wilfrid Arnand en bl. pour interveur a uacte secession et detransport',\n",
       " 'Dalenne (par M^me Syanne Nathalie Rogé rentière a Paris rue Léon Cogniet 13, veuve de M. le Baron Jean Baptiste Alfred) en bl. pour ceder et transférer créance',\n",
       " 'Levyy par M^me Ronne Bloch épouseauguste Salonon p^t a Paris rue Beri 24 a son mari pour bendtre terrain a Paris avenue de Suffren et rue',\n",
       " 'Fribe (a Mme Jeanne Estelle Séraphine Borget) époux deM. Joseph Paul) dessinateur a Paris 19 rue Montchanin 19 par le Credit foncier de500000^ pour 75 ans, hypothèque sur un immeuble à Paris 19 rue Montchanin',\n",
       " 'Fribe (a lamême) par la liquidation dela Banque hypothécaire de France de 20000^ pour 43 ans lyfpothèque sur même immeuble Michonet, après le décès de M^me Armande Louse Joséphine Maucomble propriétaire veuve Gabriel Jean, demeurant a Saint Denis rue du Jambon mmero décédée a Paris rue Pierre puern 19 le 17 avril 1911',\n",
       " 'Rigal par M. Victor employé decommerce a Paris rue Rochechouard 42 et consorts a M. Pierre Paul Passeur, avocat à Paris rue de Londre 9 pour recueillir succession',\n",
       " 'Dupré, concernant Made Louise Caire Fénand Veuve) a Paris rue Clapeyron 16',\n",
       " 'Maisel (entre M. Joseph) aujet russe poaullier, bipoutier a Paris rue du fg M Antoine 71 et Madelle Gabrielle Sviadocht à Paris rue dufau- bourg S^t Antoine 71 Apports futur 500 future 500 constitution dot à la future. 41000 F',\n",
       " \"Sté d'Etudes des charbonnages et foros morices de l'Aragon requête de Paul Marcellier Admiin hrateur judiciaire de Paris 13 rue du Roder pour parvenir à lavente des droits incoiporels mobiliers répendant dela dite S^té\",\n",
       " 'Louis par M. Almire Jules) crémier et Mad^e Marie- Clementine Victorine Chaplain s ep a Paris avenue dela Grandearmée a M. Auguste Jules Moreau crémier et Mad^e Jeanne Uphomne Michou son épouse demeurant au même lie| de locaux detendant de la maison ac 2s demeurent']"
      ]
     },
     "execution_count": 16,
     "metadata": {},
     "output_type": "execute_result"
    }
   ],
   "source": [
    "entries_list_without_linebreakes"
   ]
  },
  {
   "cell_type": "markdown",
   "id": "ed173d81",
   "metadata": {},
   "source": [
    "## Reconnaissance d'entités nommées"
   ]
  },
  {
   "cell_type": "markdown",
   "id": "33ba9399",
   "metadata": {},
   "source": [
    "On passe chaque index de notre liste dans la chaîne de traitement TAL."
   ]
  },
  {
   "cell_type": "code",
   "execution_count": 6,
   "id": "4e721f5f",
   "metadata": {},
   "outputs": [],
   "source": [
    "doc = [nlp(entry) for entry in entries_list_without_linebreakes]"
   ]
  },
  {
   "cell_type": "markdown",
   "id": "4946d6d1",
   "metadata": {},
   "source": [
    "## Création du fichier texte"
   ]
  },
  {
   "cell_type": "markdown",
   "id": "25c4ec33",
   "metadata": {},
   "source": [
    "On crée un fichier texte contenant nos annotations au format BIOES."
   ]
  },
  {
   "cell_type": "code",
   "execution_count": 7,
   "id": "8ea20186",
   "metadata": {},
   "outputs": [],
   "source": [
    "with open(\"out/FRAN_0025_5038_L-0_htr_cer_13_bioes.txt\", \"w+\", encoding=\"UTF-8\") as fh:\n",
    "    for entry in doc:\n",
    "        for sent in entry.sentences:\n",
    "            for token in sent.tokens:\n",
    "                BIO_line = token.text + ' ' + token.ner\n",
    "                fh.write(BIO_line)\n",
    "                fh.write('\\n')"
   ]
  }
 ],
 "metadata": {
  "kernelspec": {
   "display_name": "Python 3",
   "language": "python",
   "name": "python3"
  },
  "language_info": {
   "codemirror_mode": {
    "name": "ipython",
    "version": 3
   },
   "file_extension": ".py",
   "mimetype": "text/x-python",
   "name": "python",
   "nbconvert_exporter": "python",
   "pygments_lexer": "ipython3",
   "version": "3.8.8"
  }
 },
 "nbformat": 4,
 "nbformat_minor": 5
}
